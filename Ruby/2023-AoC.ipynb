{
 "cells": [
  {
   "cell_type": "markdown",
   "metadata": {},
   "source": [
    "# Advent of Code 2023\n",
    "\n",
    "https://adventofcode.com/2023"
   ]
  },
  {
   "cell_type": "markdown",
   "metadata": {},
   "source": [
    "## Day 1"
   ]
  },
  {
   "cell_type": "code",
   "execution_count": 1,
   "metadata": {},
   "outputs": [
    {
     "data": {
      "text/plain": [
       "\"1abc2\\npqr3stu8vwx\\na1b2c3d4e5f\\ntreb7uchet\""
      ]
     },
     "execution_count": 1,
     "metadata": {},
     "output_type": "execute_result"
    }
   ],
   "source": [
    "sample = '1abc2\n",
    "pqr3stu8vwx\n",
    "a1b2c3d4e5f\n",
    "treb7uchet'"
   ]
  },
  {
   "cell_type": "code",
   "execution_count": 41,
   "metadata": {},
   "outputs": [
    {
     "data": {
      "text/plain": [
       ":coordinates"
      ]
     },
     "execution_count": 41,
     "metadata": {},
     "output_type": "execute_result"
    }
   ],
   "source": [
    "def coordinates(haystack)\n",
    "  digits = haystack.scan(/\\d/).to_a\n",
    "  [digits[0], digits[-1]].join.to_i\n",
    "end"
   ]
  },
  {
   "cell_type": "code",
   "execution_count": 40,
   "metadata": {},
   "outputs": [
    {
     "data": {
      "text/plain": [
       ":checksum"
      ]
     },
     "execution_count": 40,
     "metadata": {},
     "output_type": "execute_result"
    }
   ],
   "source": [
    "def checksum(data)\n",
    "  data.split(\"\\n\").map { |line| coordinates(line) }.sum\n",
    "end"
   ]
  },
  {
   "cell_type": "code",
   "execution_count": 100,
   "metadata": {},
   "outputs": [
    {
     "data": {
      "text/plain": [
       "55621"
      ]
     },
     "execution_count": 100,
     "metadata": {},
     "output_type": "execute_result"
    }
   ],
   "source": [
    "puzzle_1 = File.read('2023-d01a.txt')\n",
    "checksum(puzzle_1)"
   ]
  },
  {
   "cell_type": "code",
   "execution_count": 79,
   "metadata": {},
   "outputs": [
    {
     "data": {
      "text/plain": [
       "\"two1nine\\neightwothree\\nabcone2threexyz\\nxtwone3four\\n4nineeightseven2\\nzoneight234\\n7pqrstsixteen\""
      ]
     },
     "execution_count": 79,
     "metadata": {},
     "output_type": "execute_result"
    }
   ],
   "source": [
    "sample_2 = 'two1nine\n",
    "eightwothree\n",
    "abcone2threexyz\n",
    "xtwone3four\n",
    "4nineeightseven2\n",
    "zoneight234\n",
    "7pqrstsixteen'\n",
    "\n",
    "# NUMBERS = {\n",
    "#   'one': '1',\n",
    "#   'two': '2',\n",
    "#   'three': '3',\n",
    "#   'four': '4',\n",
    "#   'five': '5',\n",
    "#   'six': '6',\n",
    "#   'seven': '7',\n",
    "#   'eight': '8',\n",
    "#   'nine': '9'\n",
    "# }\n",
    "\n",
    "# def translate(data)\n",
    "#   NUMBERS.each do |name, numeral|\n",
    "#     data.gsub!(name.to_s, numeral)\n",
    "#   end\n",
    "#   data\n",
    "# end\n",
    "\n",
    "# translate(sample_2).split(\"\\n\").map { |line| coordinates(line) }"
   ]
  },
  {
   "cell_type": "code",
   "execution_count": 101,
   "metadata": {},
   "outputs": [
    {
     "data": {
      "text/plain": [
       "\"mxmkjvgsdzfhseightonetwoeight7\\n3five4s84four9rtbzllggz\\n75sevenzdrpkv1onetwo\\n3q7ctkghhqkpb5four\\nccxpblrgrjxcgrhjxfmtwonine8eightzzrdn4\\n6lqjrhbnxxcqlpnmjsthreesixxsxcgqsxmdx7\\n35llbrhh\\nfivethreejcqpfqmcmvjlmhlbzpxlsmktzkmtmv8p\\n3369eightnine89\\nonesix4qqnlzdsevennmmrcgkndlsgm3\\ntwo4xgdjdqtcjk1threelkjdxvfivesix\\nsixsix6njhqrnine\\n4skbhsbtqc\\none11fpkjsix\\nkgtkgdjtwo6mmklqc\\nkqfqq39gnncltrtpgtwo5bxmx\\njdqgmr5jtz\\n6hltxnninesmfzpnqjnkcrstv\\ntwotwo6eightqcncghjvqfcv5\\n4ppzhcvqrnkqonehlhlcqmrq\\n1xldgvsix67\\n2six1bsxxgbonefour\\nstwone3qlrfive314sixsix\\ntfkbqvreight34r\\nfive4eight\\nrvsmznr4eightjqckcr6nine6rhpnmxrhdc\\nxpqldjttwompcfseven8seven8two\\nfourclkthghllzlhrs31\\n2hpmvfbm8seven5v58\\n3qnfqtgndveightthree\\nfivethreervmhvzgeightvzc63\\nhlpsp9nqnsvhdcfourfivestcz\\nnineninedtfivefive4\\ngb9twoseven\\n1fourfive4seveng\\ntmlsix2fiveninefourgjltplkfcnine\\none3sdrckqtzdzgvtl7vtwo\\ns2fdklslhzrxktzzttxdtnx1\\nthree8vhssix9hhtrxkbpjp39mcchnpp\\n37three5btqxsqkszchfivebvbbddssvc\\nz5onefour\\n3eightrthplstr2gbbkddhdqvctlsj\\nzmtfdb9\\n4d\\nfivetwo9\\nsevensevenonefour9fgm\\nrcqnineseven2\\nsevenjssstgtdn47\\n34jbdxspph\\nzthreeeight9sdnzqqhnpvdrmpfq\\n8nineoneoneoneeight\\nk3\\nsevenfive4sixninesxflqs2\\n8hplbktr\\nsevenfive6nsmqrmflsfxctgjx\\n954mpcnggqmv\\nfour9four\\n185qhonezszbfive\\noneninetwosix3eightb21\\nsixqrhphxsvj15three\\n43jnvvlsqsvk\\noneqxvjlddgfkgjdjgpvcvz5\\nlkkgzfbdsjzpslnqseven12ninedxhtjgx\\n1nine62fivefmxvgr7\\ns32eight3seven9nine\\neightldxdrtwo1krrnj8vdrchq\\ngmdm81\\nfive7two36dzgqninef\\n2four4461three\\nfourshbdbvsixklsdgggb6\\nbfsfl1\\n5bnvzgtbrsngdbqldmzlhk4\\nseven1tbjfkmqdpmlkfmqcjl3bzhzfk\\n22rmsfjstcglnrnninefivesbglz\\n6sixssg915jthkkfhj\\nfourseven81945\\n4s5two\\nbzrnthreephhptdvfourjbsteighthkzqbtlczmkjrmh9\\neight5zsbnine3tgllxqjbf8\\n2twotwotlgdbnstp7hvgpkgvdkmmzpzf\\nsixfourr9onelfzvfm4\\nlgsmmjmnl713339sdfour\\nthreefive9fivenine7nine\\neight68four5threeseven6two\\nsixeightnfkrzxlvfx5drhptm\\n3one7jqtpzggzplphrzbnplnfivefour\\neightcqksvtdzmsjssnjtf5eight1\\n2three4tzzlv\\n1zfctfccn1fourhnmnklgtwo3nine\\nninembcfmxnkqb1four46kgddneightfgxsnkzd\\nqpjbjmhkclkcznkx1ninefivesix5eight\\nnjhpf5ninefive\\n7jtwo\\ntwo79mvmtbthreesix\\nthreeqcnhzcfk7five8jnk1\\nkcdflseven69\\neightninekpjpcbhd4\\n3five2ghlgr\\n615pgtjhqqttsixone8six\\nnxsqklg3three8\\nfourtwo889nzfnqckbpslone\\nmtzzpfour4pxftwo\\nphzgbcghsixclrrrfourseven3\\ncqpccvmvqnine56mmmtqfp\\ngdzrsxdhklrlpmkjqzd8\\n1fjltwo\\nfivethree9\\n6512krnnxdxzprbtlgcfoneeightwohfl\\ntoneightfive5two\\n4sixbrcbxq\\n4hphcpfxppdnhxrmlhfourxfkjb\\ntdgpntzgz36\\n8zhtrnglsix6sixhdlqkfrzvmcztwo4\\nxjxph74\\nthree3qs7sevenpkjone18twonek\\nfiveseven4\\n2eightrlnine8eightrbjpml3nine\\nfourninethree2three5four4\\nrmrvbjblcjpdpvckprzdrdpbdtcmrndhphbbhxpzmtwo53bdxzcn\\ncvdpnd89four\\n168five\\neightg29tgvfqdzmgstvbtftfour79\\nfoursevennvmgqvxhvg6seven\\n6one57onefour6\\none7ninethldxfvthree86dfjxq\\nbjeightwo7fourfive\\njmone3946eightwor\\nfivexrqhzmsix9four\\nhldhs2vhtljcqbsseveneight\\nninefivenine2fiveb\\n3hqzninenine\\nnnpd7seven8\\n51mfkr1gjzrcrx6fpsdg7six\\nzxthreexfzfzckhhggtwo7\\nbvmspnxl9mslb8fiveninetwo2seven\\nnrgmcfgzcthreefivenvvnxzonenine91jsvfkhv\\nthreethree5four\\n7vclcnxdnmxqc4twobx\\n22qsthnkclllmlcmthree\\n1hz2xeightseven3cpbjtpv\\n65hpvfkkeight2\\neight69\\n6sixslschzjxs8rlgjkbqjzhhx2seven\\n9qdhjctdfzzqv2eightthreexfl\\noneqjtbnn68seven\\nhdzmhfsvch422mcb1one5\\n55nine3sevensixfive\\nlxjrrhkdztwonvmgbbkqxpxgtwo7vdvvzh\\nkcfctfdpfnseven87ninesixsjkxxn\\n2twoeighthqllthree\\ndgjkvnbrh89\\npxmbhhtlmqhdbqkxftk4cx6rljkgx\\n9seventwoeight65mvmgpfxtrghzd\\nhd3vhbxgpsevennzhlzseven6\\n83one\\n2kztrbbkj2cmjzm7\\n1sdzkctzqtwo\\n6vxjgvmsz1onepgdkrtrd\\n52kmspbvqbpzbscjtzkm79onelhzrfmp\\n1259one4gztcz\\njlmrvtxjphtwo2\\nzrldjg2two\\nsixdhsfvqrnseven5ms1\\ngmrdkgqb8lmlpzjfflsbkjnntjc9eightcdpdq\\n4nvxdvgjrnzdtblhxfsvdpvm3seven1tlkhfzmjqp\\ndxjjbv4lvc39bscvppc91\\nc6\\ndvftxktvsonehcprkszlbfive1jxckpvknfthxnsm2\\ndrglpjtm1fivesixccr\\nfive35ksnljjnpdnine\\nthree92\\n3hbsgfrxqxgpsbsevencxthree5\\n1flnzjsseven2\\n176eight6tskbvc\\n5seventhreesixfivebqtjtwoneff\\nkghrvxcpgplfdrxxtflbfffivetwo1fourseven\\nnine1twothreezjrmdcsclgfourtqbstp\\nffggc4\\nsevendqhkddzpvxsix92jncd\\nhzgcggpgn867mmvtvd193\\n9qkgzfd\\nsixcrkcrhgpj3497935\\neight4pmknqkklc\\nsixoneonerxqpfljvleightsix2eight3\\nfourfivegznjlplsmpjrbhd61lone\\nthreeseven1one1two8\\n986lsixdqkpljbx8\\nlggq8fouroneftp5\\nloneightfivethreemfn19\\neightseventwo29four\\n5phtlbfdbltbls99699\\n8lnbqbslmqmhkvzvnkmxhllpngcm9one8oneightz\\nvfqprdmklzgklllm362tcdvvlmvdnjsixeight\\n2dbltlmcxklxqlvhgmkkgfr\\nfive31468threercbjkvtqgm\\nngzpnljmdcrqt86hphtnblsxmg5tnsltm\\n4mtzpfxrzrrdltjbmgjksix\\nqztnrrsgkrsskdvj4skfnx6\\n571four\\n1eightxd3\\n2four98n366k\\nsixbbztnkf3fourfourhvs5nine\\njsftxsix4ninethreetwok\\n9mbskphxtmpthree6nine\\nbm6fourghmnrnsmtwotwofournssrseven\\n9bnkcmdpsssix48\\nfivefourptglzp9\\n14gmrfdjmkbjlnine\\nthreetqq3\\ntwo474two4\\ntdctzcztgnthreefive1sevenxfqzcjcj\\n8tph1sevenone9thppone\\nsix3ntvjfgdv6seven\\n77nine1twobszrsjffqcvhqv\\n19123threesixone\\n83sixsixtwoseven6\\ncjqnine3btn\\ngjdlvzct1\\n498bvcdrznineonetwo\\nrmcnshlzxlthmtfjqdn3ktwonem\\nthree9one9ninesevenzpv5\\nqtfv1fivefourthreet3one\\nldpb7three\\nfxfrxbhfour9nine25threejkmthznj1\\n7three19rffgprxfjzk4\\nfour91\\nmfbfhnh771two9eight\\n5rhrseven\\n4three2sevenone\\neight58\\neight6one54np\\nncc4two9646\\nxgboneight4\\n7373ngvsgr\\nfoursevendhtgrlrtflxvlonezxxrghjgrzpcmrkdxhtchs9\\nmfoursixcneight188\\n3xlpkjshjz\\nsbppcxpnxkjm3fivenrmqzkcdrz9eight9\\neight8threek38eightlfzone\\n1lpfhddpqsevennine2four\\nrvnjdqkj6eightsixdxjbt2\\n46sixsix\\n8eighttwocscdgpsz119bdv\\n1nkmvbcgxs9ninesix68czshseven\\nsixtfx9\\nthreetbksevenone1tzmsvspqjhtwotjfdqt\\nktztwoseventscssk14\\n4z4\\nzfd998threekvonebgpxtqxv9\\nonesevenone3\\nthree5fivepzsqvm2\\nsrvbvkb7one7threejmmlxjvxcnxqggcvtk5\\nmvcsix2onegfzzrrqsixeightsevenpmmbmdqvfq\\n1fsxsnhrpkfh5xcphtfmjdb\\n91tqmbkxjhg\\nthreefivenfjz1eight5sixseven\\n5eightfive\\n4fiveblhqn\\n23seventhreesevenfour\\ntwofourkqgone2cmtkzldj8\\ndeightwomqvlxpvthreetwotwof8\\nseven7lrrtlsxmpngvstfk9\\nthreeknchdjnine3k\\n2fourfourvhnqthfivevbzsfcseven\\nfrfxctwodzjlqcqfj319\\nfz7three\\nmmn8sixtxmgtwothreeprk3eightwoznl\\n2xjsevenct\\n551sixkhd\\n3sevensfck64two\\n2pmxrtkzrsix26lrtwo\\njlqbhmsvmthreefive2tdpjgqgngjjsgmpsix8\\ntgtfqplcrsseven1skpfnr8cfrxvn7\\nmvpl755three2seventwothree\\n3b\\ncdfjmnkjsix2twoeight5gsxsc\\n3l3gqcmjhtk\\n9mlftpmmlqctonegpbfstpcnhmm53\\n4ninedbztjvvqone5zcnqhh\\nsix5n2tzzhvll2eight\\nmfcb81phsqmczzsix\\ncm41oneseven3\\nvkkgh2fqs\\nseven8dhfkghhsix\\n7jnqxnrvbsg54sixtwonedn\\nstvsix2leightprsllnlmtjqc6seven\\nfour2threenine4onethree\\nfiveqqhfivenine9\\nfour85two8\\n5two756twooneightr\\n679\\nxlbbxrhkt4dqdcbkddoneoneightjb\\n6sixthreethreefdzjcqjgjpxfour5\\ndeightwosix4six51seven\\ndkgkgjhc6sevensevenninefivepvbrthreetz\\nrdqxbbninefvkvdhmgr61nineeight\\n3nzdvnljf71fiveeight\\nzcscbkleightvvtxbqbgmr361\\nmqhxninebtfrfour9eight8six4\\nonezdfdc351\\nrrtwonesixtn4eight23\\nsevenfivethreezmbjmfiveeight4four\\npmfpfjhs58eight\\nsix88tvdsxdll\\nfour8cgm3eight\\npprsdrtwokk9seven\\nsddbkzfczc9\\nqsevenone6hc47jbzvpbgj\\n3hpdmbpmrtrzhkdfivecpdcgqcnfcfiverrhksnpcd\\n7six946\\nnqptzsixsnpqqmjpzmgfheight3\\n2fdlprcxtrn\\n73lnine9\\neight2mrkrqfive\\nsevenllscmf6sjqbjvdqzd8khxvpninezctzf8\\n33xdseven5436\\nmnbhzx3threeonetwoone\\nsixsixtwoxrhfive79\\neightzdbm7sevenzhtl\\ndjlmh9threefour\\nsix7xmlg89\\nseven97sixsix4hsgzlm9\\n6eightsix2m\\ntnrzjjxggd9zjckhbrhmvfouronetwo6\\ncdhjfvnine82sixonefourdkpsg4\\n65vrsvponenine\\nfivelkpvpone9gjqxf1ninesevenkfrkjqkfb\\n7twoqst\\nmggftm2five99four\\nthreeonejjshqfeight3three74\\n1h97lfnvdgqlhjmqbqffive\\nbk88nine\\neightone2three7\\n3hsvjpfrpv\\n5sixtwoeightltnvmzsb\\n3zxqrfkgc\\ntwo93njsmdsixsevenfournklz8\\n6nlmtheightdjsnklrpbb\\n3threelpbznvzghpnrveightsixseven\\n4djqnvrksmdrgfnqglg3two\\n411vqljd3\\n7ninelmbqlthree\\ntwo35ninefnhfrsixfive6qzlptcpgh\\nfour1pmkfcpkh8nine\\n1gzfgmbqbmpqr1tvkrntdn\\n5sevenseveneightfour4zttvtwolnrkqd\\n1sfouronepgmckxvhtwo69\\njmbqfour1eightwot\\nsixonevq5\\nr3sixmn\\nrhklqpztgcvxthreesix5onevf77\\n5nnzbzjcpc\\ntwockmmkdpcmhbczbkp2six\\n95eight57seven\\nbctwone7one8threexspzds\\nninesevenfivevsnxzfxdmf9z995\\n7five8gmhlqjvtrqlqgrlngmx4\\ngfftcpxeight46\\n1nine9two1eight58fxhtmv\\n1pmpxzsevenjhxpjmxbfourfour\\n7oneeightpzkzzczg\\nonenine3threeeightjd9\\nfourninecvbmcsctblfour46eightncgkjgt8\\n9threesix\\nsixonesixqdqqjprfourone62\\ndeightwofourhdb6eight6\\n52six4jtlphxslh8\\n4tsdjnkqkcrtwo4\\n6two5rbggpdz9ninesixjctmfkdhz\\nxtftfgvkcp1foureight\\noneqvdphhjzqmqdb8\\n8two8slfvgbqqhq\\nbnnzlseven41l25sevenb\\n8smzbc\\n941eight\\nvlcszrbhssdhvkcfcnpffhone7four1\\nthreesix4hcsnpdfqksfour5three\\n7lcnbkbdfmninenmmrffgbrfour\\n5hlr8flfldblp4three5twopctglmcq\\n3sevenfgvgxxsxdvlbkkhr9\\n5sfive\\n8fourtwomqtmchfjbkcgpntjpkkkp\\nmkjxmqsevennmsspqhzxmrncpstpbfour77jbfz\\n8nineone1513\\nhgsqzrqcbnjcbdtnlfljnm4four\\ncxqnqseven7gmqpffmxgkxdtwo49\\nrndoneightccsjmklbxf8tgqph\\ntwon4\\nnsccmbthreebdtjpsixpdc5xbxqqgzf2\\nsixglxmmjdvqx9eightntpeightpgzxv7\\npvdtwone8five5tvdlshqnrd884\\nfivebfrvnthreecjlzhpglvfphhsix4\\ncfnfsf9hrxvpfdvbbfourr949\\n3five2psng4\\nfourkbbfzlqlvhm3\\nzvfqkpzctpreight7threeonehzfxnkj7\\nthree8one\\n16eightsevensix32nine\\nnbgqpspvdtsixjkv6cqzpq\\nsevenfdfhgrzthree2\\nnineqxthree1\\nonehmgdksxkninekbbrphbmt6\\n5pnrlg7drhdthree925\\ntwo32tqtqk6\\nfsknktltdb32seven9\\n5464fqtghjrqdpeightvzbx\\n92five6scnddkj59\\nvrmfoneone93four\\nbbbbzfggtd5qzmnlqxssfour7phfjtjjjtggdmpfgzjssvjbgsr\\ngncbxjpone22tvfive\\n6six9eightjjnvnhdxtjfouronefjbsq\\ntconefsnseveneight47six\\nhkh4\\n3hshtz2seven72one3\\n5sevenqqbttbjfdnhlrksthreefive1\\nqzcggcmq89qjcglscsp37eightthreepbhdrnbkf\\n6xjsxlbldc\\n7s4sevensix6\\n5twoeight85threefour\\n6threekbg7\\n3134\\nsixtgvxcvfhd1tj\\n8sevenxzeightrrdvnpf38nine\\n93three\\neight4nfrsjq4eight5\\nfournvpfvmqp5\\n7fourxvljqmkmshdlczkrhqhmvtwonehn\\nqlxq1frdbgrvccnn\\nthreesix8ngkjtbtv9\\n4r\\nfive8three4ptcnv7\\nlnb45xgd\\n9lbpclmj4gpxrtmvvdeight7\\nthree9two3threeknrbxpd6dnf\\n5pqk41sevenmqhvcdpllfour9\\n86qlxmrghxlcthreebphtqpdrbj\\nthree6ninevvpfzr24\\neight4zq1vkqdzfjjxqrdxdkgpcp\\n8hrvgrzcvvchjt8fxgpqngjstpkqmjkmjgdnrvtxmdzzfour\\nrknoneightcmdbr1\\n5vsix6\\nninemttonefour4threevjzmsix\\n5six5shjhxbplmttbpts\\nvsevenonefourrlgvfbfsjmbfzxm3\\n8141fourvxzgvfxx9qkdkbdoneightrdl\\ntwothree6\\nmfpqj6onemtvrnbbgphz\\n99eightzdnctk\\n5zrcrsbthreetwoqqrjtzprnvqczxj3\\n7sevencgcnjdlnnlfivethreepmnjjjmkqzkvqgf3three\\nonetjqqcxhksmnb3onefive\\n2fourthree5foursczlj7fxpfscc7\\nqmlf7\\n19eight\\nfivefour2\\nonetwofourone3hhffourtwo9\\n8threesevenhhtfllrn2\\neight7pcspzljx2msplsg6bdk\\neightbknvftrbcsixnine4threemppgcdfzhrxcmlqlq\\none46\\n3r\\n5tpvkrxmthreedn4sfseven\\n48two\\ns3nkkxzrj\\n14jfrbrxr\\n4618\\n1nnthreesix\\nszsmxqcfh1\\nninesevensix4onefbckbkc\\nninefour8\\nsfxkhrqbndtrrknhchxzqone9three\\nxxzoneightfivebffhhnk27nn\\n1threethreeninetwotnbjftcnl\\n7two58\\n22vbljflmgxrdtqgxchsthrstg2l\\n5lklmmcfkdm12dxsix\\nthreetjsr1\\nqcponeight3six9rzvnvbjqzbr8dlhxvfnh\\n4one84\\nsix3txbfhvhmkv19\\njnvjqfeight6eighteightfivel\\n8qshjffmdrrmmtl6one3\\n7rxvqgnd3mfivefkrkvmfivenine\\n8vtxtqg44\\nbbhbhkpv7mqzrl58twobkngmjznpmnszmthree\\nsevengmrtjdgqrpjxlseven36fouroneeight\\nfive758eighteight4\\n59kshsonesixfive\\nlkvtwone1zpkjnbjtjrqppqsksdz\\nonesbqtbsffgsixeightnineninexchm2\\n9eightnqck2tx\\nzhbpbrxjd9\\n659fourhdrxjeightlflseven5\\nzjmmvhjbm243oneightgp\\n3hpfplfkhz9\\n6twotwo\\nsixfourfoursix1tthree\\nxlfour5133bbhmbq\\ndhthree5threesix\\npdtmsixfourtwo6rl\\n2three5ftfvfktqvmsixseven8ggjnzhzhm\\n59four1sczj6jqlsreight\\nvrrgrhnj1xgmcmd76two2oneightgqp\\nnine5ljscvrfbdnine4four54\\nnine6bfqcdczp16\\n3oneighth\\nbt8three\\n26jnllqrrxrhpbnkcj\\ntlcnb88onekcxcchxvzseven95rvsxmsh\\nbmj53seven9\\none947twosixeight\\nl1rqhcjqnmj8mhkgkpskeightz\\nfivepsfcqrgjtkthreez9cvgfhpdclgtwofv3\\n3hmd7seven5\\ndrfftcgdvsixkgzspcftsfour86foureight\\nrqpvcb4mgdfjcsix1eight\\nnine3nine\\n1mgqq3six\\n5ninerldqnmdh4\\nqvkxtthreevddpczxpcv6nine1seven\\nfivembc1xjzeightone434\\npfhzttgbpzr6two3231eight\\n1eight11two9onethreeeight\\n45\\nzjrjsgtbfjthreefmkfsclrnjtwo8eight\\n4sevenxjzt8one\\nsncdbnbm356\\n5nineheight6one\\nseven4tqthree\\nmkdhlmffqv9rcbldrzvtgltcone5oneeightpsnxzlprpm\\n4sixqgflnsfive\\nhgfphllv3three2two\\ntvtkg476\\nknnkjxs1cgxoneseven91\\nthzxgnnz27eightsixthreetwofour\\ntfzptldgnsfive3bqblfdnine\\n9tfscsfj33\\nzhkfstzlddqbdks6fournine\\nhvvjjfournine8six4\\nvhq9jsllg862rrrrxfhkn\\n7oneseveneightq5xfmtsix\\n3three7979\\n9dcvdgkmthpzktwofour\\nnvvfivezxcgdbxslfshcshbvvkklp9\\nqcfqfckd3bcbvmg4b\\ngttwonerchfrxhvsixljqxmhrpjb6ninesixonenine\\nzfbfgvkx6\\ncctfqjseventxjnmjltwo9sixeight\\neightjq9\\nsevenflj7four\\n65three8trqptndveightfour\\n46fkbhhqzgthree7nine43xfxptdxp\\nmoneightfourcqdvm5sixnine1\\ngsbthree7\\ntqdlh7seven\\n4seven4sixprjslbrvbsix\\neightsixsix8pqchtpttrq7threenine8\\nfivehcthreetwoseven4hllhvmleighteight\\nfive79gmsvqvfour\\nfiveninej7seven\\nsixglnrtwoxvvc45\\nfivetzkdhmbzbvxndxjhljgbd2\\nnineeightllpslcxbdvvmrtwo4\\ntwoshzhlngsixnhftqp9twothree\\n5rkdc9eightseven62three\\nknrpvflpzjsix3jmftfqmqtlgjnltkfm\\nthree62fnrtckmnkcvplvtb3k3\\nxtbsm8six2six6\\nfour5sixfivetqeightwozt\\n7qxhbpvknqb5sevenkhpphnpfhsix\\n29kxbznzxtwo8\\n1sixrmfxcfive9\\nfourjzmnxfprpbznz32six2\\ntwo5six1nlrtqrcxm\\n69eightone18\\nfourthreev29sixthreeone\\nninekpjbjm7683\\n2ccnpk\\n3three3f\\n7fourthreenine\\n3seven5onefive\\nnfsssvfzfive9seveneightfour5sevenpstctrnkmj\\n2nlkgsix27c\\nlsr1\\nvzlbfiveninetwovdrncmmnf3five\\nfblnvgx4sqspkgdkgninefhqrxnmgfourseven7\\nz5fourcbnbkjzz99eightdbkmrcdhbcsix\\njgvhjddq6vccsbrnonedvsjkrnbeight\\n85four7mfqnt8three\\nsevenfive95ktghsd\\n5ngr34kxqnmdvk\\nfourcdr469jvjd2onedqvjqjftz\\n8vkmsseven82\\npksixseven9vthrzfouroneightlvr\\n87rdnzmgpnvflnqsbvkjq\\nsixxtnponejkmvmn6\\ngz5q9eight462nine\\ngsixthreehvktsix82\\n455mcqgnj\\nfive9zzthqcgvfive5ninepvzxxonecshsghbmpj\\n9five7four\\none1sevenhmddjlninesevenfour\\nxnhbmdlvgj82fivedvz\\n52dnxsseven7rszgdxlhgj\\nthreeseven34two\\n97hsrpcxz2shp8one\\n7twofour2jthnzc8\\ncveight55eight\\nsix1lglhzsnkdfivedpnlgcjtldtqmd\\ntsqmjxmhxncdpr1jmxmgx2fivelvjltzvhjhone\\nmrxtmfmrh3seventhree\\nfourtwohk7\\n9eighth95pkp\\n289fcqzqhlzsfqrg\\ntfkqtzhrbvllmvvzggjlzzp28mhpfztxpqsthree\\n5eightsv349two\\n98five4five\\nfivesixthreejfivepbhdlvnkb6\\nonefivedfgkdr8one\\n236five5sfmjdfive\\nsevenqg5\\ntwo4eighthtvcxhxone\\n99fivecnsnflqp9six\\nfivefourdfjjpv85fourkcttlqdpksxqjzgbgk\\nfour7cp1\\nzpgd2px\\ntltlzcf3djmzqjr9five\\n2twoninezrfivecttvkjfmmlrckhnrb\\nonetwo1sevenddddpklfourdlvsixone\\n18924\\n8m\\n1bblbkt4sixeight\\n3xfsthreeonepjjprmvlt\\nfour8eightptvtcfour\\neightsrfflfxbpvtlbzsdv7two\\nfiveninefive5xllzgscseveng\\n1eightfivedmvdgzfqjrqnhtsh2eight\\n6six8vqfrpkfmkq7pbjrl8d\\n6threelbldnpx\\n9four78one1four\\nvfivesix6\\n2twonemg\\nsixzsxfsgqonesix7tvhplmf\\nthreesix56five4\\ndt78seven4vzlrzb9\\nseven61pfvdnlcq13threenine\\npzvdtfeightsix2four\\nsix632sevenfivenhmhknkflkjrcfrts\\nthree4seventhreenqpjmrr\\ntwo3jhjvjqlmls7eight5sevencrzbtxqp\\n7jdlgznine\\nlg2hfteight3\\n8cttggeightsix54czlc2nine\\nhc3dkrvqf\\neightks65ninesix\\ngttmtsl247\\n9eightxnjjf4jbrdbtwoctwomllpfvx\\n5ninettpkf\\nhvbhhn7knbfk9rfsxrgmfqfzc473\\nxpvmvtplxdm9jjhzmpgcddfour7\\n3pnzsbbcb3fivecsqhllpkslfqsdv\\nsdlseven4six1eight3\\n3hfssp1nine4ldtjhsix\\ntwofour1mqkkvczdbr8five88eightwox\\n5fiveone2nine8\\n8xvkdtbbdqlmtp6\\n9hsksxfnr4lzs7bkhfsh4\\nnineseven876ninejl\\n6b7eight\\njmvpfjsjvjtwo78bmhnxg\\n4vgrzfsptpx6rdrnpbsmckvrglrlfive\\nthreecrvzssmsnfourfive9jvtcqxbppfs\\nthree18lbjdvqp\\ncntz6xp2\\nttwonejhmjctlz374seven18three8\\n56sqh1fvfshgmxxl1\\nqsbrnj1\\nnine1nine61onethree\\n4fourbnz5\\n8one8\\nsix9k\\nxj74four2xhxq2\\n9sxvspcxrzgfourfiveseven9\\nninermnfknxbtwoonejds9\\nfive4hpr\\npztthbxhfour8xrmvpgeightslhbngshrs8\\n41sixsix8five\\nfourcrvxprsjlgglczq7rnmbtwopktrzthree\\nfivebdmqrtwop1\\nsixnineninehfqmpzzc9\\n8sptsqhpzxfccpfivenskklrsmcftwokhlqklznone\\n22ttpfbqfnckkdqmptlfdseven\\n9onefive2cnjlsd7\\nftsfmbskf37onetmnzgjpcqsrt5bjdeightwosgm\\nsevenjseven5rnseven6lsgdr3\\ntwoeightxdghlhhsjq65oneightz\\nrxnfndqlq6\\n7rfvztgnh\\nzjmklxvsvzlfgpgrtjpdninefivenine9eight\\nsix3cktxsix1vnbdlfc\\nsevenninencdninefour7\\n6826\\n22eight\\n88vsdcvlkniners41qlfive\\nseven9eightrxhsndgj1vq88five\\njvpbvsevenfivesix285foureight\\n8seven4\\nrslvvsixeightlpchthninem6\\nbmfkmthree5kqndvprvfive\\n8r7hpxrzzxgmcsbnrnhr93\\n692\\n1zlpvhnfdbtg\\n7fivefiveone\\nxkfd2eightsevenfourtwonegr\\n9fivesixtwo\\nrschzfcgrtwotckrdhdtv6mtwo\\n6tdxlh\\ntwofivej2srhpxhj\\n58scmtvn3mndnjnbqmsthree5sevenfour\\nsixmclmtrlone8bgbtg\\njzrhmgvllh4nxphfssd73\\nmbsevenfzbtjqjb5mlgmq\\nsz73ghmbqvlhgffdkrrk\\nvlkgfhcsqklnkqdmdeight5jfivekvnjlbeightkcfrcgc\\npn3spmgcseighttwohzgmctfour\\n5four6nhvkvlbjfour1kmnxskdpd\\n865\\ntwoqknkgggtwoqrvxgvdz83eightghmnphhcsb\\nninefiveeightfq9bszrhqztl7one\\nfourbrj2\\nlnqnnqbnonenv66\\n4xgmjzpbptnine1\\ngnvnnfourccfshvbninek8ninekcnhcxkk\\n47krxlf\\nthsix6jzxxqls2kgxdflrdtxzsix\\n4bjdfgxmsjrfivepkpvklmdthreeone5\\nhxktj8\\nrntwone5\\none77n\\nrpcqn5\\nzonecvvzpltlkvq19\\nrcnxqvqzj9nineeight59trdfxbr\\n8eightthreeone\\njbksthreetworszgrht7\\nxvk4zfbclkpbeight\\n2nineninesixsixfive5\\n3seven5\\n1jjmffhtxskjmgc6vhvjk\\n4six1\\none6five94\\nrfqtbxltrhrcnpf7lbd6\\n56fiveninenqpfrv\\n3eightsix823eightonesix\\nthreegntdfqltbncn92\\ng9eightkbpdqqqbz\\n79sevensjsvgbbnjeight\\n6sevensixvth23two6\\ngxc5bgqtbgknfourcbjeightone3\\nfive7two\\n3nsjnxsjqqqszc4\\n8bnxdbqtpggfhkvbqbjkggkqgvrjntxf3mrvmptgptcftspk\\nsixlfsvljpjmdsplnjffmsevendll3\\nbtjkmdsscd566nine\\n8zdbhzj\\nrrkshvnsixknbxdfjhq4nineeightvkhqnr\\nxpfqfthreesixseven1\\ntbvgsqcjtctdpvm36\\nonenine1rdxxcjgkp\\ntwo1phslfour4cb\\n63tvv\\neightfivehtzgmggpxjsevenmsix3\\n782eighthgzfdnxqcvngd\\nnine8zkqrcv\\npjmgbhsbq367six\\n9rlmcphtvr\\nthree5ktjhxhhdsv75\\nhkqbbdgrvbone7q7three1\\n6sevenfxf\\none8fvmnz\\nthree1pmlrhnbg38xj14\\nseven51seven9bfxzkzvjeight\\ntworjvtdpdvhztwo6zbbcmrszhthree\\nzhbxpkhvvdf9nrlvxsqhpvdtbvxhqseven\\nfive56three3\\nqrpgpblxrfpjhtq4onepzx\\nlqzmkbhrthreesrdtbgpfmg7\\n2sthreeninektktttfive\\n32five1four\\nhvsh71\\nqvvtbg35hvnsevenxzslzvjjdpcfh5three\\nninesevenmcxthmqffv6vrctchjvnv2\\n5eight5l\\nnineznnghfhjgqgclsv69s\\n3tpxxcqtn\\nvoneightmzxd16h\\n1sevenfour39\\nonevftpfhpttn8zbsonefourkjgvxbtkf\\nfive4qjgsjrt\\n8nsxz9\\nfour7twosixsixthreefourfour\\n4fourtqbdskvvn\\nnine9onehgdtgfzr\\n3fiveeightseven\\nfour92nine6xsptzhlvsdxg\\n5two78kmrbn923\\n6zkjtprddlxppbrndhcpxgsscnineeight6\\ntsmeightwo961eightoneonejpcmsxpstwo\\n3three45mfslth5fourrj\\nxjqxninelqvlcrfvqtndsevenfive9fourvdlhpt\\nthree2kmkmcv9onethchqfgtjtqzr\\nffive5x\\n613mm25four\\nninehdqhjd4two61eightfive\\nkbnmjnfqkone65one3dfxtlseventhree\\ntwoeightsixsixjv1fourthreetwo\\n1vgcbgsevengrzc\\n8threensspvzxvtwosmskq2\\nmmqvhlhksm5threeqhdgcls65\\nc4dllhmcq8pv\\n4fivenine775\\n1sevenfivepfqzsnz\\n3xrfivetwo6kthreesixpdfgjbsk\\nonethreetzffmzdq24\\neight4seven6rnqznchsevenseven\\nhsklxtnzlcpknhsevenjjxvkzxvm79five\\n7bvnnlxpx1six\\npgqkcpzx9ltrdvcv\\n8twormcqrdbxnhhhh6\\n7lkhmssvbktwoseven\\nthree7one7sixpntkrttkm\\nzbscnhfpqplrzsghjxbjcpjqbgfive9ninesseven\\n4fivemxpsvsrone1lmmxqqvkmvprxbtt\\n7sevensixtwofouronefivenqdcrprsk\\n81twotjkhqzdjs9sgzqbbgf2\\nsnfgfqchtfk34fivexnjfqqv\\nksjrvrbr6two\\nkdvbgptwo4twohqshpjqdnseven8five\\nfhdnbzvmsrrndqtcstgtwo3f1dbmt6six\\n126\\nkdbdgkgkzhbzdgseven524seven\\nbqllslqqfrdtvone9ninezbcxpzgzkdzcx\\n4ninefourthreeninengshmnfhvf5\\nfour55cbrhbcpscnnjqxs\\nrh7mqbvlfjjnhhlqgqpdffnj6\\n93onenine\\nhklqshsc7eight4hbbrzqbmvfourkqlsmknine\\nsevenblqqsd63five2eight\\nthreenine1kncghvqmgt\\nsixfht5psfxvt\\none4cmxfiveseven\\n94ssfour6twojrvscgqzlrnzrbnvrdxtxtzn\\ngqfpxxslmkbjsl8threetwojdv\\n9lcvgsl\\n1nine6sevensix29qjpsix\\n9seven7lfsbtnzcbmlq3zqcfmckb\\n6v1nbsstmrzkseven4vfjfmtktpc\\n7vdnhzgrdgkqmmhcnmjtfive7dnfhmjxndbsnm\\nfkczmxzshtsevenszcfbsljzsqcplc124\\neightone582\\n1gccxfjhgbc37fourxzdr9n4\\nrczkvvonepph1nine833\\n1hpbvtk\\nonep3nmmdmtrmj29\\ntxmlgzjtrddxl1nine29vcjnxjbqeight\\n2sixktlcqbngvgeighttwofive6vsmzlmfb5\\nzlkrfour89threerhnlnd1\\nxnbznine43dcvpplpqzv4threeonefive\\nfiveoneckrmlzmpn98two\\ndgcsix74sevenmflkcrtpb\\nfldxlgcqxbv8btdkmrdhsevenrbmzkgkznbninenine\\nqvxspxxmr9bsjeight\\n622chmv7sqztsssvp3\\n8cxspjfnxtrgvpeightnine\\nqsninetwo8dpd9five\\nzzlbgqoneseveneight15\\nfourtwo6qqrjqvhbvbdlsggckb8\\n4sixmfkdcbjzv46\\ntcxt5twoq\\n9jzvkxfourzjxxbbqmlmfs\\n1fpxhpjsgfnine6\\n1ntnmbj5pz\\nfive81hhxsnhfourninevnine\\njpmjrdjrrm7three1\\none6fhblldjnbnlzjhhpkdjfkr72threetwo\\n6fiveeight7jb7lqkghcmrhvhj\\neight8czbc689\\nqqmqspdtwo4ntbkmbbvkqpfzrksgcktlznj\\nninefiveseven88618\\nqjxcchckrmtwoone326\\n1gjcklxrnbtmfqnvlnkfgz13kkptcjqndr9nine\\nhchgvsbfour7fourlgjkcrthreeninekvvqhzrleight\\nnmgdxt1\\nseven5four6667threeeight\\none2kcsddzkl3\\nnzdtjvxj739tbdvc7\\noneone5three\\nonefourxqxkjq5\\n23bljlvpltnbcxmmgslrhksjdlbzhddrfourseventhree\\n3five68vpxkmrb\\n7crfeight\\n1ktvdhsmxq\\n6pkr7seven\\nsixpmrpqtndhxxjheight88fiveqzgsftgfvhbnjdjtktp\\n73two2eight4three57\\n5foursix79625\\n43fourtwo13mmctvsrljtvd\\n5ddrjxjhfhjbdgmmgsqzpnlt5lfktpkbthncvjntnns\\nthreeqnpknxvnfthreeqdmfour1tq\\n8rqdkzdjvpngdhzr6kqpcreightn\\nzrmtrpl13foursevenonejmvthree\\nzghbcdcrdqjtqgvnine2sevensix3nhqk\\nxmtxjmllhsbn1mtxvvrjftwo\\n78btvheight\\nfour5seven68pzllptfqmxh2\\nonesevenlbsp6eightsixtwoninelpfl\\nfhnttk3sixnfqvhdqhnfgpglpbpltfqjvkkmz\\n69three76\\npxkh55\\nvtqfklninemxgnzspgl8\\n53three7\\nfiveeighthfive89fivexdbpthree\\n5lcvlpgxjmsqzbffcvpxrhtvbbcp\\nlfnine89sevenone9\\n8lsthlhtbpfour\\n1twofour7b\\n3ncrzdmzsqfbvgjpx\\nfivenhcvbntlcfthreemsktzr9two\\nqgxzqdnzztplvql5\\ntkxeight4onexvzfg\\nhh4ninelznnln6\\nsix34bgbbffg\\npsgqgrbhsdvhgdxvbdqcxmstnhnqmhchjmbtsdll5qrhlngzzonetwoneg\\n2125seven9six\\n12four2scvrttnvhsfive7\\nnine1fbtf\\ntwonine4cjqln\\n68ninethreeone\\nvhcmrbxlttwo2\\nxmnbbnlmnk7flhcqrl\\ntpjpbnl9gcbhtv\\n1z5cjc\\nmeight65csmkfourpmcv79\\nf6four1f\\none95zhnineseven1\\n4hmxmkvzmpzb2\\n5eight2\\n3tmfhdnjtr1b\\n6tvpsbbqr92five\\nprlhtzthtwo3mjrblrtrsfoneeight4fourtwo\\n841jhhfkhppprnine5\\ncfkninexcgbqkzsixqpmvptt9\\nnv3cccghqhr4\\neight4mgczjmmtqcrd\\ntwo1five\\nthreecxvdqvrggljgjqn6fourthree\\ntdvpx7sevenone41fourfour\\n74two24jjsxgvzfqxtwonex\\ngvjcdrbntvlphtwosevenfivesix8seven1\\npjhgq7qcvrls\\npplbxsvmqfjjvfhnn3\\n1four9four\\neightsevenqnhmkckdzcstkgbcprsg7one\\n37bfivehndskks1\\n9five1pnmqbldqj5\\ndpcvcmkrcgbdhnxrnfourbx88\\n3zdqrvffhsnlhseven\\n5fourcmpdkjsevenninepksfpdkxpbonethreel\\nsix9hseven1\\njfive637ffqdnjfjseven76\\n3one6\\nsixthree5\\n7vctcdxsqhqvftqqt61\\nfourtwo5xjznnjgeighteightwovss\\none983sevensix7\\npxddhlhzgjqxq8\\n5xjkpcrh9\\n4cgeightcltbsrjtkjcqrkgjf86jmkh\\nsmxnvtv8\\njjhxddmg5mqxqbgfivextlcpnvtwothreetwonerzk\\njqlfcmpd4foureightfive\\nnine5ninetsfhmclvcb8dsix\\nhfbnlvhd76kmxf414pm\\n9hgjzbkpd\\n8471lqbnine\\nzqtwonethreekcz3seven2\\none7eight9gcqmsxdlsqdtqv7\\nkjvnsmcctfivetwo7\\n8fourthreethree7\\n2eightcrq4twotwosixnvdrnkn\\n2zhlnthseven8one\\n1sixfive6three7shjqz\\nfive7fourseven\\nfivebml9gjvtlfctwo\\ncgvvsl44five5ztlfdrc\\n7559tfhcdvkthgx\\ncnktjkjmcg46fiverxlxkmxvkmnklsfive\\n5lvlhsjkxssfour\\nsevenfourfour99seven8\\nktgfiveone76ghj\\n7zgzsevenftkdfour186\\n\""
      ]
     },
     "execution_count": 101,
     "metadata": {},
     "output_type": "execute_result"
    }
   ],
   "source": [
    "puzzle_2 = File.read('2023-d01a.txt')\n"
   ]
  },
  {
   "cell_type": "code",
   "execution_count": 128,
   "metadata": {},
   "outputs": [
    {
     "name": "stderr",
     "output_type": "stream",
     "text": [
      "(irb):10: warning: already initialized constant Object::NUMBERS\n",
      "(irb):10: warning: previous definition of NUMBERS was here\n",
      "(irb):22: warning: already initialized constant Object::NUMBER_MATCHER\n",
      "(irb):22: warning: previous definition of NUMBER_MATCHER was here\n",
      "(irb):23: warning: already initialized constant Object::SCANNABLE_NUMBER_MATCHER\n",
      "(irb):23: warning: previous definition of SCANNABLE_NUMBER_MATCHER was here\n"
     ]
    },
    {
     "data": {
      "text/plain": [
       "[87, 39, 72, 34, 24, 67, 35, 58, 39, 13, 26, 69, 44, 16, 26, 35, 55, 69, 25, 41, 17, 24, 26, 84, 58, 46, 22, 41, 28, 33, 53, 95, 94, 97, 17, 69, 12, 21, 39, 35, 54, 32, 99, 44, 59, 79, 92, 77, 34, 39, 88, 33, 72, 88, 76, 94, 44, 15, 11, 63, 43, 15, 79, 17, 39, 88, 81, 59, 23, 46, 11, 54, 73, 25, 65, 45, 42, 39, 88, 27, 64, 74, 39, 82, 65, 34, 81, 24, 19, 98, 18, 55, 72, 26, 31, 79, 84, 32, 66, 38, 41, 42, 63, 96, 88, 12, 59, 62, 12, 46, 44, 36, 84, 74, 31, 54, 29, 44, 23, 84, 15, 89, 47, 66, 16, 85, 12, 54, 28, 95, 39, 78, 56, 37, 97, 31, 34, 72, 23, 13, 62, 89, 67, 93, 17, 45, 55, 27, 76, 23, 89, 46, 95, 36, 81, 27, 12, 61, 51, 14, 22, 22, 61, 88, 41, 41, 66, 12, 16, 59, 32, 35, 12, 16, 51, 57, 94, 44, 72, 83, 99, 65, 84, 63, 41, 38, 98, 85, 19, 84, 59, 88, 38, 22, 53, 85, 46, 46, 54, 13, 26, 69, 62, 99, 67, 98, 59, 19, 33, 24, 37, 81, 67, 72, 11, 86, 93, 11, 42, 31, 35, 11, 73, 41, 74, 41, 78, 57, 41, 88, 84, 46, 14, 73, 49, 48, 33, 39, 81, 14, 62, 46, 89, 17, 69, 32, 24, 44, 99, 13, 32, 75, 67, 15, 91, 37, 55, 45, 24, 28, 88, 79, 33, 27, 29, 73, 82, 27, 56, 32, 22, 38, 77, 73, 33, 65, 33, 93, 45, 68, 86, 43, 22, 76, 71, 67, 43, 59, 48, 58, 69, 48, 65, 87, 63, 98, 38, 81, 94, 11, 23, 74, 58, 68, 48, 27, 99, 77, 35, 76, 63, 22, 79, 85, 78, 36, 31, 69, 87, 94, 69, 79, 62, 96, 94, 69, 57, 72, 24, 34, 15, 89, 87, 33, 58, 33, 28, 68, 37, 42, 43, 73, 26, 49, 11, 52, 19, 42, 65, 36, 37, 55, 26, 97, 23, 95, 74, 86, 18, 14, 78, 19, 48, 96, 62, 86, 58, 44, 66, 18, 18, 88, 77, 88, 98, 11, 33, 74, 52, 39, 55, 82, 77, 83, 44, 79, 18, 24, 32, 67, 24, 54, 99, 34, 43, 87, 31, 19, 66, 72, 91, 16, 55, 26, 39, 58, 99, 14, 57, 15, 61, 16, 44, 33, 51, 83, 66, 76, 54, 67, 34, 61, 89, 93, 85, 45, 71, 11, 39, 44, 57, 45, 97, 36, 59, 83, 34, 81, 84, 11, 56, 96, 55, 73, 88, 26, 61, 98, 53, 73, 15, 27, 77, 18, 52, 19, 82, 86, 83, 16, 33, 57, 42, 33, 14, 48, 16, 11, 91, 98, 13, 17, 12, 78, 22, 56, 31, 18, 44, 69, 85, 83, 79, 84, 73, 78, 54, 55, 21, 12, 92, 99, 65, 28, 39, 62, 63, 43, 36, 66, 28, 58, 18, 94, 96, 38, 83, 26, 85, 59, 18, 18, 53, 35, 68, 48, 99, 16, 54, 37, 54, 68, 18, 45, 38, 41, 36, 51, 73, 98, 45, 32, 46, 11, 24, 59, 93, 69, 44, 92, 76, 39, 94, 59, 34, 29, 66, 78, 89, 74, 64, 43, 11, 37, 77, 46, 88, 58, 54, 57, 65, 52, 94, 23, 53, 63, 33, 86, 42, 76, 28, 19, 42, 21, 68, 41, 93, 22, 33, 79, 35, 57, 27, 11, 55, 47, 56, 68, 83, 75, 54, 41, 82, 68, 87, 66, 59, 62, 45, 51, 94, 14, 85, 57, 32, 91, 78, 88, 65, 11, 33, 47, 95, 29, 23, 52, 95, 56, 11, 25, 75, 21, 96, 54, 41, 22, 35, 25, 11, 14, 88, 18, 31, 44, 82, 57, 18, 68, 63, 94, 56, 21, 67, 34, 79, 79, 84, 65, 33, 27, 79, 23, 89, 33, 86, 27, 92, 59, 73, 97, 35, 73, 36, 22, 58, 86, 94, 99, 68, 28, 45, 39, 38, 62, 28, 51, 11, 93, 45, 88, 69, 72, 99, 99, 54, 48, 45, 43, 51, 69, 81, 27, 97, 32, 73, 28, 66, 77, 98, 61, 77, 66, 28, 85, 75, 78, 84, 66, 35, 83, 62, 11, 71, 21, 92, 22, 66, 22, 54, 68, 43, 75, 73, 88, 34, 51, 85, 28, 91, 42, 16, 41, 49, 47, 66, 45, 88, 25, 17, 55, 19, 99, 81, 37, 48, 25, 35, 16, 41, 14, 76, 59, 36, 32, 98, 78, 66, 53, 52, 34, 83, 63, 59, 88, 68, 31, 36, 11, 24, 63, 83, 78, 98, 36, 99, 35, 11, 67, 18, 34, 78, 23, 97, 53, 41, 37, 25, 34, 71, 33, 92, 55, 99, 33, 16, 19, 14, 54, 89, 44, 44, 91, 37, 46, 53, 66, 82, 34, 94, 31, 55, 64, 95, 13, 22, 17, 82, 55, 48, 45, 15, 36, 14, 87, 75, 76, 99, 86, 77, 36, 57, 41, 75, 82, 35, 62, 25, 26, 16, 77, 19, 45, 45, 76, 99, 79, 78, 31, 65, 17, 92, 82, 99, 16, 93, 64, 77, 74, 82, 14, 13, 11, 19, 18, 25, 41, 95, 52, 67, 89, 98, 63, 89, 95, 15, 48, 46, 52, 94, 16, 15, 59, 71, 12, 67, 89, 24, 98, 26, 19, 48, 11, 78, 13, 77, 13, 15, 23, 38, 78, 11, 67, 65, 77, 55, 43, 55, 31, 88, 13, 93, 12, 78, 42, 19, 36, 66, 55, 98, 57, 53, 55, 99, 84, 17, 33, 52, 55, 81, 46, 64, 51, 26, 17, 91, 24, 61, 22, 77, 99, 15, 89, 61, 11, 42, 52, 31, 65, 22, 85, 99, 34, 84, 25, 33, 74, 71, 21, 77, 33, 14, 81, 31, 95, 48, 37, 53, 61, 56, 36, 65, 71, 42, 17, 88, 59, 46, 88, 51, 45, 96, 74, 99, 89, 22, 17, 57, 87, 26, 21, 17, 57, 52, 45, 79, 45, 54, 78, 56, 76]"
      ]
     },
     "execution_count": 128,
     "metadata": {},
     "output_type": "execute_result"
    }
   ],
   "source": [
    "puzzle_2 = File.read('2023-d01a.txt')\n",
    "\n",
    "sample_2 = 'two1nine\n",
    "eightwothree\n",
    "abcone2threexyz\n",
    "xtwone3four\n",
    "4nineeightseven2\n",
    "zoneight234\n",
    "7pqrstsixteen'\n",
    "\n",
    "NUMBERS = {\n",
    "  'one' => '1',\n",
    "  'two' => '2',\n",
    "  'three' => '3',\n",
    "  'four' => '4',\n",
    "  'five' => '5',\n",
    "  'six' => '6',\n",
    "  'seven' => '7',\n",
    "  'eight' => '8',\n",
    "  'nine' => '9'\n",
    "}\n",
    "\n",
    "NUMBER_MATCHER = ['\\d', *NUMBERS.keys].join('|')\n",
    "SCANNABLE_NUMBER_MATCHER = Regexp.new(\"(?=(#{NUMBER_MATCHER}))\")\n",
    "\n",
    "def verbal_checksum(data)\n",
    "  data.split(\"\\n\").map do |line|\n",
    "    first_digit_match, *_other_matches, last_digit_match = line.scan(SCANNABLE_NUMBER_MATCHER).flatten\n",
    "    first_digit = NUMBERS[first_digit_match] || first_digit_match\n",
    "    last_digit = NUMBERS[last_digit_match] || last_digit_match || first_digit\n",
    "    [first_digit, last_digit].join.to_i\n",
    "  end\n",
    "end\n",
    "\n",
    "# verbal_checksum(sample_2)\n",
    "\n",
    "verbal_checksum(puzzle_2)"
   ]
  },
  {
   "cell_type": "code",
   "execution_count": 113,
   "metadata": {},
   "outputs": [
    {
     "data": {
      "text/plain": [
       "53592"
      ]
     },
     "execution_count": 113,
     "metadata": {},
     "output_type": "execute_result"
    }
   ],
   "source": [
    "verbal_checksum(puzzle_2)"
   ]
  },
  {
   "cell_type": "code",
   "execution_count": 126,
   "metadata": {},
   "outputs": [
    {
     "name": "stderr",
     "output_type": "stream",
     "text": [
      "(irb): warning: already initialized constant Object::OVERLAPPING_MATCHER\n"
     ]
    },
    {
     "data": {
      "text/plain": [
       "[[\"abc\"], [\"fgh\"]]"
      ]
     },
     "execution_count": 126,
     "metadata": {},
     "output_type": "execute_result"
    }
   ],
   "source": [
    "# scan starts looking for the next match after the end of the previous match.\n",
    "REGULAR_MATCHER = /(\\D\\D\\D)/\n",
    "'abcde8fgh'.scan(REGULAR_MATCHER)\n",
    "# [[\"abc\"], [\"fgh\"]]\n",
    "\n",
    "# lookahead matches don't consume the characters they match, so they can overlap.\n",
    "# scan moves forward by one character after each match.\n",
    "OVERLAPPING_MATCHER = /(?=(\\D\\D\\D))/\n",
    "'abcde8fgh'.scan(OVERLAPPING_MATCHER)\n",
    "# [[\"abc\"], [\"bcd\"], [\"cde\"], [\"fgh\"]]\n"
   ]
  },
  {
   "cell_type": "markdown",
   "metadata": {},
   "source": [
    "## Day 2"
   ]
  },
  {
   "cell_type": "code",
   "execution_count": 158,
   "metadata": {},
   "outputs": [
    {
     "data": {
      "text/plain": [
       "2685"
      ]
     },
     "execution_count": 158,
     "metadata": {},
     "output_type": "execute_result"
    }
   ],
   "source": [
    "d2_sample = 'Game 1: 3 blue, 4 red; 1 red, 2 green, 6 blue; 2 green\n",
    "Game 2: 1 blue, 2 green; 3 green, 4 blue, 1 red; 1 green, 1 blue\n",
    "Game 3: 8 green, 6 blue, 20 red; 5 blue, 4 red, 13 green; 5 green, 1 red\n",
    "Game 4: 1 green, 3 red, 6 blue; 3 green, 6 red; 3 green, 15 blue, 14 red\n",
    "Game 5: 6 red, 1 blue, 3 green; 2 blue, 1 red, 2 green'\n",
    "\n",
    "def parse(data)\n",
    "  data.split(\"\\n\").map do |game|\n",
    "    minimums = {}\n",
    "    number, results = game.split(':')\n",
    "    game_id = number.match(/\\d+/)[0].to_i\n",
    "\n",
    "    results.split(';').map do |round|\n",
    "      counts = {}\n",
    "      round.split(',').map do |hand|\n",
    "        number, color = hand.strip.split(' ')\n",
    "        counts[color] = number.to_i\n",
    "      end\n",
    "      minimums.merge!(counts) { |_, old, new| [old, new].max }\n",
    "    end\n",
    "    [game_id, minimums]\n",
    "  end\n",
    "end\n",
    "\n",
    "def solve(data)\n",
    "  parse(data).map do |id, game|\n",
    "    next id if game['red'] <= 12 && game['green'] <= 13 && game['blue'] <= 14\n",
    "    0\n",
    "  end\n",
    "end\n",
    "\n",
    "# solve(d2_sample)\n",
    "\n",
    "d2_input = File.read('2023-d02.txt')\n",
    "solve(d2_input).sum"
   ]
  },
  {
   "cell_type": "code",
   "execution_count": 166,
   "metadata": {},
   "outputs": [
    {
     "data": {
      "text/plain": [
       "83707"
      ]
     },
     "execution_count": 166,
     "metadata": {},
     "output_type": "execute_result"
    }
   ],
   "source": [
    "def solve_2(data)\n",
    "  parse(data).sum(0) do |_id, game|\n",
    "    game.values.reduce(&:*)\n",
    "  end\n",
    "end\n",
    "\n",
    "# solve_2(d2_sample)\n",
    "solve_2(d2_input)"
   ]
  },
  {
   "cell_type": "markdown",
   "metadata": {},
   "source": [
    "## Day 3"
   ]
  },
  {
   "cell_type": "code",
   "execution_count": null,
   "metadata": {},
   "outputs": [],
   "source": []
  }
 ],
 "metadata": {
  "kernelspec": {
   "display_name": "Ruby 3.2.2",
   "language": "ruby",
   "name": "ruby"
  },
  "language_info": {
   "file_extension": ".rb",
   "mimetype": "application/x-ruby",
   "name": "ruby",
   "version": "3.2.2"
  }
 },
 "nbformat": 4,
 "nbformat_minor": 2
}
