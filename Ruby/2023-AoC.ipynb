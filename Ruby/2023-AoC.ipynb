{
 "cells": [
  {
   "cell_type": "markdown",
   "metadata": {},
   "source": [
    "# Advent of Code 2023\n",
    "\n",
    "https://adventofcode.com/2023"
   ]
  },
  {
   "cell_type": "markdown",
   "metadata": {},
   "source": [
    "## Day 1"
   ]
  },
  {
   "cell_type": "code",
   "execution_count": 1,
   "metadata": {},
   "outputs": [
    {
     "data": {
      "text/plain": [
       "\"1abc2\\npqr3stu8vwx\\na1b2c3d4e5f\\ntreb7uchet\""
      ]
     },
     "execution_count": 1,
     "metadata": {},
     "output_type": "execute_result"
    }
   ],
   "source": [
    "sample = '1abc2\n",
    "pqr3stu8vwx\n",
    "a1b2c3d4e5f\n",
    "treb7uchet'"
   ]
  },
  {
   "cell_type": "code",
   "execution_count": 2,
   "metadata": {},
   "outputs": [
    {
     "data": {
      "text/plain": [
       ":coordinates"
      ]
     },
     "execution_count": 2,
     "metadata": {},
     "output_type": "execute_result"
    }
   ],
   "source": [
    "def coordinates(haystack)\n",
    "  digits = haystack.scan(/\\d/).to_a\n",
    "  [digits[0], digits[-1]].join.to_i\n",
    "end"
   ]
  },
  {
   "cell_type": "code",
   "execution_count": 3,
   "metadata": {},
   "outputs": [
    {
     "data": {
      "text/plain": [
       ":checksum"
      ]
     },
     "execution_count": 3,
     "metadata": {},
     "output_type": "execute_result"
    }
   ],
   "source": [
    "def checksum(data)\n",
    "  data.split(\"\\n\").map { |line| coordinates(line) }.sum\n",
    "end"
   ]
  },
  {
   "cell_type": "code",
   "execution_count": 4,
   "metadata": {},
   "outputs": [
    {
     "data": {
      "text/plain": [
       "55621"
      ]
     },
     "execution_count": 4,
     "metadata": {},
     "output_type": "execute_result"
    }
   ],
   "source": [
    "puzzle_1 = File.read('2023-d01a.txt')\n",
    "checksum(puzzle_1)"
   ]
  },
  {
   "cell_type": "code",
   "execution_count": 5,
   "metadata": {},
   "outputs": [
    {
     "data": {
      "text/plain": [
       "53592"
      ]
     },
     "execution_count": 5,
     "metadata": {},
     "output_type": "execute_result"
    }
   ],
   "source": [
    "puzzle_2 = File.read('2023-d01a.txt')\n",
    "\n",
    "sample_2 = 'two1nine\n",
    "eightwothree\n",
    "abcone2threexyz\n",
    "xtwone3four\n",
    "4nineeightseven2\n",
    "zoneight234\n",
    "7pqrstsixteen'\n",
    "\n",
    "NUMBERS = {\n",
    "  'one' => '1',\n",
    "  'two' => '2',\n",
    "  'three' => '3',\n",
    "  'four' => '4',\n",
    "  'five' => '5',\n",
    "  'six' => '6',\n",
    "  'seven' => '7',\n",
    "  'eight' => '8',\n",
    "  'nine' => '9'\n",
    "}\n",
    "\n",
    "NUMBER_MATCHER = ['\\d', *NUMBERS.keys].join('|')\n",
    "SCANNABLE_NUMBER_MATCHER = Regexp.new(\"(?=(#{NUMBER_MATCHER}))\")\n",
    "\n",
    "def verbal_checksum(data)\n",
    "  data.split(\"\\n\").map do |line|\n",
    "    first_digit_match, *_other_matches, last_digit_match = line.scan(SCANNABLE_NUMBER_MATCHER).flatten\n",
    "    first_digit = NUMBERS[first_digit_match] || first_digit_match\n",
    "    last_digit = NUMBERS[last_digit_match] || last_digit_match || first_digit\n",
    "    [first_digit, last_digit].join.to_i\n",
    "  end.sum\n",
    "end\n",
    "\n",
    "# verbal_checksum(sample_2)\n",
    "\n",
    "verbal_checksum(puzzle_2)"
   ]
  },
  {
   "cell_type": "code",
   "execution_count": 6,
   "metadata": {},
   "outputs": [
    {
     "data": {
      "text/plain": [
       "[[\"abc\"], [\"fgh\"]]"
      ]
     },
     "execution_count": 6,
     "metadata": {},
     "output_type": "execute_result"
    }
   ],
   "source": [
    "# scan starts looking for the next match after the end of the previous match.\n",
    "REGULAR_MATCHER = /(\\D\\D\\D)/\n",
    "'abcde8fgh'.scan(REGULAR_MATCHER)\n",
    "# [[\"abc\"], [\"fgh\"]]"
   ]
  },
  {
   "cell_type": "code",
   "execution_count": 7,
   "metadata": {},
   "outputs": [
    {
     "data": {
      "text/plain": [
       "[[\"abc\"], [\"bcd\"], [\"cde\"], [\"fgh\"]]"
      ]
     },
     "execution_count": 7,
     "metadata": {},
     "output_type": "execute_result"
    }
   ],
   "source": [
    "\n",
    "# lookahead matches don't consume the characters they match, so they can overlap.\n",
    "# scan moves forward by one character after each match.\n",
    "OVERLAPPING_MATCHER = /(?=(\\D\\D\\D))/\n",
    "'abcde8fgh'.scan(OVERLAPPING_MATCHER)\n",
    "# [[\"abc\"], [\"bcd\"], [\"cde\"], [\"fgh\"]]"
   ]
  },
  {
   "cell_type": "markdown",
   "metadata": {},
   "source": [
    "## Day 2"
   ]
  },
  {
   "cell_type": "code",
   "execution_count": 8,
   "metadata": {},
   "outputs": [
    {
     "data": {
      "text/plain": [
       "2685"
      ]
     },
     "execution_count": 8,
     "metadata": {},
     "output_type": "execute_result"
    }
   ],
   "source": [
    "d2_sample = 'Game 1: 3 blue, 4 red; 1 red, 2 green, 6 blue; 2 green\n",
    "Game 2: 1 blue, 2 green; 3 green, 4 blue, 1 red; 1 green, 1 blue\n",
    "Game 3: 8 green, 6 blue, 20 red; 5 blue, 4 red, 13 green; 5 green, 1 red\n",
    "Game 4: 1 green, 3 red, 6 blue; 3 green, 6 red; 3 green, 15 blue, 14 red\n",
    "Game 5: 6 red, 1 blue, 3 green; 2 blue, 1 red, 2 green'\n",
    "\n",
    "def parse(data)\n",
    "  data.split(\"\\n\").map do |game|\n",
    "    minimums = {}\n",
    "    number, results = game.split(':')\n",
    "    game_id = number.match(/\\d+/)[0].to_i\n",
    "\n",
    "    results.split(';').map do |round|\n",
    "      counts = {}\n",
    "      round.split(',').map do |hand|\n",
    "        number, color = hand.strip.split(' ')\n",
    "        counts[color] = number.to_i\n",
    "      end\n",
    "      minimums.merge!(counts) { |_, old, new| [old, new].max }\n",
    "    end\n",
    "    [game_id, minimums]\n",
    "  end\n",
    "end\n",
    "\n",
    "def solve(data)\n",
    "  parse(data).map do |id, game|\n",
    "    next id if game['red'] <= 12 && game['green'] <= 13 && game['blue'] <= 14\n",
    "    0\n",
    "  end\n",
    "end\n",
    "\n",
    "# solve(d2_sample)\n",
    "\n",
    "d2_input = File.read('2023-d02.txt')\n",
    "solve(d2_input).sum"
   ]
  },
  {
   "cell_type": "code",
   "execution_count": 9,
   "metadata": {},
   "outputs": [
    {
     "data": {
      "text/plain": [
       "83707"
      ]
     },
     "execution_count": 9,
     "metadata": {},
     "output_type": "execute_result"
    }
   ],
   "source": [
    "def solve_2(data)\n",
    "  parse(data).sum(0) do |_id, game|\n",
    "    game.values.reduce(&:*)\n",
    "  end\n",
    "end\n",
    "\n",
    "# solve_2(d2_sample)\n",
    "solve_2(d2_input)"
   ]
  },
  {
   "cell_type": "markdown",
   "metadata": {},
   "source": [
    "## Day 3\n",
    "\n",
    "My instinct is to use a bunch of memory to process the entire file in one go, but I'm choosing to process this line by line as though I might need to do this on something like an ever-growing log file."
   ]
  },
  {
   "cell_type": "code",
   "execution_count": 94,
   "metadata": {},
   "outputs": [
    {
     "name": "stderr",
     "output_type": "stream",
     "text": [
      "(irb):3: warning: already initialized constant Object::SYMBOL_MATCHER\n",
      "(irb):3: warning: previous definition of SYMBOL_MATCHER was here\n"
     ]
    },
    {
     "data": {
      "text/plain": [
       "539713"
      ]
     },
     "execution_count": 94,
     "metadata": {},
     "output_type": "execute_result"
    }
   ],
   "source": [
    "d3_sample = '2023-d03-sample.txt'\n",
    "d3_input = '2023-d03.txt'\n",
    "\n",
    "SYMBOL_MATCHER = /[^.\\d]/\n",
    "\n",
    "def find_codes(pl, fl, nl)\n",
    "  match_offset = 0\n",
    "  fl.scan(/\\d+/).map do |num|\n",
    "    start, width = fl.index(num, match_offset) - 1, num.length + 2\n",
    "    match_offset = start + width\n",
    "    if \"#{pl[start, width]}#{fl[start, width]}#{nl[start, width]}\".match(SYMBOL_MATCHER)\n",
    "      next num.to_i\n",
    "    end\n",
    "    0\n",
    "  end\n",
    "end\n",
    "\n",
    "def solve_3(filename)\n",
    "  prev_line, focus_line, next_line = '', '', ''\n",
    "  good_codes = []\n",
    "\n",
    "  File.foreach(filename) do |line|\n",
    "    padded_line = \".#{line.chomp}.\"\n",
    "    prev_line, focus_line, next_line = focus_line, next_line, padded_line\n",
    "    next if focus_line.empty?\n",
    "    prev_line = '.' * focus_line.length if prev_line.empty?\n",
    "    good_codes += find_codes(prev_line, focus_line, next_line)\n",
    "  end\n",
    "\n",
    "  # final line\n",
    "  good_codes += find_codes(focus_line, next_line, '.' * focus_line.length)\n",
    "\n",
    "  good_codes\n",
    "end\n",
    "\n",
    "# find_codes('.#.......', '.35..633.', '.......!.')\n",
    "\n",
    "# solve_3(d3_sample)\n",
    "solve_3(d3_input).sum\n",
    "\n",
    "# d3_problem = [\n",
    "#   '.....*..#................506..143........375......77.....155...........400.518...64....773...718..797........694....972.603.....*...........',\n",
    "#   '....479.795...............*..........800...........*.$.......264*636.......@..............&..*...*.......499...............*...5.20.........',\n",
    "#   '515...................512.484...*....*...=......390...427...................................644.804.........*...@......-..532............28.'\n",
    "# ]\n",
    "\n",
    "# find_codes(*d3_problem)"
   ]
  },
  {
   "cell_type": "code",
   "execution_count": null,
   "metadata": {},
   "outputs": [],
   "source": []
  },
  {
   "cell_type": "code",
   "execution_count": null,
   "metadata": {},
   "outputs": [],
   "source": []
  }
 ],
 "metadata": {
  "kernelspec": {
   "display_name": "Ruby 3.2.2",
   "language": "ruby",
   "name": "ruby"
  },
  "language_info": {
   "file_extension": ".rb",
   "mimetype": "application/x-ruby",
   "name": "ruby",
   "version": "3.2.2"
  }
 },
 "nbformat": 4,
 "nbformat_minor": 2
}
