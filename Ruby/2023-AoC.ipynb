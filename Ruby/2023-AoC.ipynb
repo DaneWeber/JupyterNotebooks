{
 "cells": [
  {
   "cell_type": "markdown",
   "metadata": {},
   "source": [
    "# Advent of Code 2023\n",
    "\n",
    "https://adventofcode.com/2023"
   ]
  },
  {
   "cell_type": "markdown",
   "metadata": {},
   "source": [
    "## Day 1"
   ]
  },
  {
   "cell_type": "code",
   "execution_count": 1,
   "metadata": {},
   "outputs": [
    {
     "data": {
      "text/plain": [
       "\"1abc2\\npqr3stu8vwx\\na1b2c3d4e5f\\ntreb7uchet\""
      ]
     },
     "execution_count": 1,
     "metadata": {},
     "output_type": "execute_result"
    }
   ],
   "source": [
    "sample = '1abc2\n",
    "pqr3stu8vwx\n",
    "a1b2c3d4e5f\n",
    "treb7uchet'"
   ]
  },
  {
   "cell_type": "code",
   "execution_count": 2,
   "metadata": {},
   "outputs": [
    {
     "data": {
      "text/plain": [
       ":coordinates"
      ]
     },
     "execution_count": 2,
     "metadata": {},
     "output_type": "execute_result"
    }
   ],
   "source": [
    "def coordinates(haystack)\n",
    "  digits = haystack.scan(/\\d/).to_a\n",
    "  [digits[0], digits[-1]].join.to_i\n",
    "end"
   ]
  },
  {
   "cell_type": "code",
   "execution_count": 3,
   "metadata": {},
   "outputs": [
    {
     "data": {
      "text/plain": [
       ":checksum"
      ]
     },
     "execution_count": 3,
     "metadata": {},
     "output_type": "execute_result"
    }
   ],
   "source": [
    "def checksum(data)\n",
    "  data.split(\"\\n\").map { |line| coordinates(line) }.sum\n",
    "end"
   ]
  },
  {
   "cell_type": "code",
   "execution_count": 4,
   "metadata": {},
   "outputs": [
    {
     "data": {
      "text/plain": [
       "55621"
      ]
     },
     "execution_count": 4,
     "metadata": {},
     "output_type": "execute_result"
    }
   ],
   "source": [
    "puzzle_1 = File.read('2023-d01a.txt')\n",
    "checksum(puzzle_1)"
   ]
  },
  {
   "cell_type": "code",
   "execution_count": 5,
   "metadata": {},
   "outputs": [
    {
     "data": {
      "text/plain": [
       "53592"
      ]
     },
     "execution_count": 5,
     "metadata": {},
     "output_type": "execute_result"
    }
   ],
   "source": [
    "puzzle_2 = File.read('2023-d01a.txt')\n",
    "\n",
    "sample_2 = 'two1nine\n",
    "eightwothree\n",
    "abcone2threexyz\n",
    "xtwone3four\n",
    "4nineeightseven2\n",
    "zoneight234\n",
    "7pqrstsixteen'\n",
    "\n",
    "NUMBERS = {\n",
    "  'one' => '1',\n",
    "  'two' => '2',\n",
    "  'three' => '3',\n",
    "  'four' => '4',\n",
    "  'five' => '5',\n",
    "  'six' => '6',\n",
    "  'seven' => '7',\n",
    "  'eight' => '8',\n",
    "  'nine' => '9'\n",
    "}\n",
    "\n",
    "NUMBER_MATCHER = ['\\d', *NUMBERS.keys].join('|')\n",
    "SCANNABLE_NUMBER_MATCHER = Regexp.new(\"(?=(#{NUMBER_MATCHER}))\")\n",
    "\n",
    "def verbal_checksum(data)\n",
    "  data.split(\"\\n\").map do |line|\n",
    "    first_digit_match, *_other_matches, last_digit_match = line.scan(SCANNABLE_NUMBER_MATCHER).flatten\n",
    "    first_digit = NUMBERS[first_digit_match] || first_digit_match\n",
    "    last_digit = NUMBERS[last_digit_match] || last_digit_match || first_digit\n",
    "    [first_digit, last_digit].join.to_i\n",
    "  end.sum\n",
    "end\n",
    "\n",
    "# verbal_checksum(sample_2)\n",
    "\n",
    "verbal_checksum(puzzle_2)"
   ]
  },
  {
   "cell_type": "code",
   "execution_count": 6,
   "metadata": {},
   "outputs": [
    {
     "data": {
      "text/plain": [
       "[[\"abc\"], [\"fgh\"]]"
      ]
     },
     "execution_count": 6,
     "metadata": {},
     "output_type": "execute_result"
    }
   ],
   "source": [
    "# scan starts looking for the next match after the end of the previous match.\n",
    "REGULAR_MATCHER = /(\\D\\D\\D)/\n",
    "'abcde8fgh'.scan(REGULAR_MATCHER)\n",
    "# [[\"abc\"], [\"fgh\"]]"
   ]
  },
  {
   "cell_type": "code",
   "execution_count": 7,
   "metadata": {},
   "outputs": [
    {
     "data": {
      "text/plain": [
       "[[\"abc\"], [\"bcd\"], [\"cde\"], [\"fgh\"]]"
      ]
     },
     "execution_count": 7,
     "metadata": {},
     "output_type": "execute_result"
    }
   ],
   "source": [
    "\n",
    "# lookahead matches don't consume the characters they match, so they can overlap.\n",
    "# scan moves forward by one character after each match.\n",
    "OVERLAPPING_MATCHER = /(?=(\\D\\D\\D))/\n",
    "'abcde8fgh'.scan(OVERLAPPING_MATCHER)\n",
    "# [[\"abc\"], [\"bcd\"], [\"cde\"], [\"fgh\"]]"
   ]
  },
  {
   "cell_type": "markdown",
   "metadata": {},
   "source": [
    "## Day 2"
   ]
  },
  {
   "cell_type": "code",
   "execution_count": 8,
   "metadata": {},
   "outputs": [
    {
     "data": {
      "text/plain": [
       "2685"
      ]
     },
     "execution_count": 8,
     "metadata": {},
     "output_type": "execute_result"
    }
   ],
   "source": [
    "d2_sample = 'Game 1: 3 blue, 4 red; 1 red, 2 green, 6 blue; 2 green\n",
    "Game 2: 1 blue, 2 green; 3 green, 4 blue, 1 red; 1 green, 1 blue\n",
    "Game 3: 8 green, 6 blue, 20 red; 5 blue, 4 red, 13 green; 5 green, 1 red\n",
    "Game 4: 1 green, 3 red, 6 blue; 3 green, 6 red; 3 green, 15 blue, 14 red\n",
    "Game 5: 6 red, 1 blue, 3 green; 2 blue, 1 red, 2 green'\n",
    "\n",
    "def parse(data)\n",
    "  data.split(\"\\n\").map do |game|\n",
    "    minimums = {}\n",
    "    number, results = game.split(':')\n",
    "    game_id = number.match(/\\d+/)[0].to_i\n",
    "\n",
    "    results.split(';').map do |round|\n",
    "      counts = {}\n",
    "      round.split(',').map do |hand|\n",
    "        number, color = hand.strip.split(' ')\n",
    "        counts[color] = number.to_i\n",
    "      end\n",
    "      minimums.merge!(counts) { |_, old, new| [old, new].max }\n",
    "    end\n",
    "    [game_id, minimums]\n",
    "  end\n",
    "end\n",
    "\n",
    "def solve(data)\n",
    "  parse(data).map do |id, game|\n",
    "    next id if game['red'] <= 12 && game['green'] <= 13 && game['blue'] <= 14\n",
    "    0\n",
    "  end\n",
    "end\n",
    "\n",
    "# solve(d2_sample)\n",
    "\n",
    "d2_input = File.read('2023-d02.txt')\n",
    "solve(d2_input).sum"
   ]
  },
  {
   "cell_type": "code",
   "execution_count": 9,
   "metadata": {},
   "outputs": [
    {
     "data": {
      "text/plain": [
       "83707"
      ]
     },
     "execution_count": 9,
     "metadata": {},
     "output_type": "execute_result"
    }
   ],
   "source": [
    "def solve_2(data)\n",
    "  parse(data).sum(0) do |_id, game|\n",
    "    game.values.reduce(&:*)\n",
    "  end\n",
    "end\n",
    "\n",
    "# solve_2(d2_sample)\n",
    "solve_2(d2_input)"
   ]
  },
  {
   "cell_type": "markdown",
   "metadata": {},
   "source": [
    "## Day 3\n",
    "\n",
    "My instinct is to use a bunch of memory to process the entire file in one go, but I'm choosing to process this line by line as though I might need to do this on something like an ever-growing log file."
   ]
  },
  {
   "cell_type": "code",
   "execution_count": 10,
   "metadata": {},
   "outputs": [
    {
     "data": {
      "text/plain": [
       "539713"
      ]
     },
     "execution_count": 10,
     "metadata": {},
     "output_type": "execute_result"
    }
   ],
   "source": [
    "d3_sample = '2023-d03-sample.txt'\n",
    "d3_input = '2023-d03.txt'\n",
    "\n",
    "SYMBOL_MATCHER = /[^.\\d]/\n",
    "\n",
    "def find_codes(pl, fl, nl)\n",
    "  match_offset = 0\n",
    "  fl.scan(/\\d+/).map do |num|\n",
    "    start, width = fl.index(num, match_offset) - 1, num.length + 2\n",
    "    match_offset = start + width\n",
    "    if \"#{pl[start, width]}#{fl[start, width]}#{nl[start, width]}\".match(SYMBOL_MATCHER)\n",
    "      next num.to_i\n",
    "    end\n",
    "    0\n",
    "  end\n",
    "end\n",
    "\n",
    "def solve_3(filename)\n",
    "  prev_line, focus_line, next_line = '', '', ''\n",
    "  good_codes = []\n",
    "\n",
    "  File.foreach(filename) do |line|\n",
    "    padded_line = \".#{line.chomp}.\"\n",
    "    prev_line, focus_line, next_line = focus_line, next_line, padded_line\n",
    "    next if focus_line.empty?\n",
    "    prev_line = '.' * focus_line.length if prev_line.empty?\n",
    "    good_codes += find_codes(prev_line, focus_line, next_line)\n",
    "  end\n",
    "\n",
    "  # final line\n",
    "  good_codes += find_codes(focus_line, next_line, '.' * focus_line.length)\n",
    "\n",
    "  good_codes\n",
    "end\n",
    "\n",
    "# find_codes('.#.......', '.35..633.', '.......!.')\n",
    "\n",
    "# solve_3(d3_sample)\n",
    "solve_3(d3_input).sum\n",
    "\n",
    "# d3_problem = [\n",
    "#   '.....*..#................506..143........375......77.....155...........400.518...64....773...718..797........694....972.603.....*...........',\n",
    "#   '....479.795...............*..........800...........*.$.......264*636.......@..............&..*...*.......499...............*...5.20.........',\n",
    "#   '515...................512.484...*....*...=......390...427...................................644.804.........*...@......-..532............28.'\n",
    "# ]\n",
    "\n",
    "# find_codes(*d3_problem)"
   ]
  },
  {
   "cell_type": "code",
   "execution_count": 11,
   "metadata": {},
   "outputs": [
    {
     "data": {
      "text/plain": [
       "84159075"
      ]
     },
     "execution_count": 11,
     "metadata": {},
     "output_type": "execute_result"
    }
   ],
   "source": [
    "d3_sample = '2023-d03-sample.txt'\n",
    "d3_input = '2023-d03.txt'\n",
    "\n",
    "PART_MATCHER = /^\\D*\\d+\\D+\\d+\\D*$/\n",
    "\n",
    "def find_parts(*lines)\n",
    "  parts_found = []\n",
    "\n",
    "  lines.each do |line|\n",
    "    if line[3].match(/\\D/)\n",
    "      applesauce = line\n",
    "      applesauce[3] = 'Z'\n",
    "      x = applesauce.match(/(\\d+)Z/)\n",
    "      parts_found << x[1].to_i if x\n",
    "      x = applesauce.match(/Z(\\d+)/)\n",
    "      parts_found << x[1].to_i if x\n",
    "    else\n",
    "      x = line.match(/^.{0,2}\\D(\\d+)/)\n",
    "      parts_found << x[1].to_i if x\n",
    "    end\n",
    "  end\n",
    "\n",
    "  raise \"Should only be two parts. #{lines}\" if parts_found.length != 2\n",
    "\n",
    "  parts_found[0] * parts_found[1]\n",
    "end\n",
    "\n",
    "def find_gears(pl, fl, nl)\n",
    "  gears_found = []\n",
    "  match_offset = 0\n",
    "\n",
    "  while index = fl.index('*', match_offset)\n",
    "    m_start, m_width = index - 1, 3\n",
    "    p_start, p_width = index - 3, 7\n",
    "    match_offset = index + 1\n",
    "    if \"#{pl[m_start, m_width]}Z#{fl[m_start, m_width]}Z#{nl[m_start, m_width]}\".match(PART_MATCHER)\n",
    "      gears_found << find_parts(pl[p_start, p_width], fl[p_start, p_width], nl[p_start, p_width])\n",
    "    end\n",
    "  end\n",
    "\n",
    "  gears_found\n",
    "end\n",
    "\n",
    "def solve_3b(filename)\n",
    "  prev_line, focus_line, next_line = '', '', ''\n",
    "  gear_ratios = []\n",
    "\n",
    "  File.foreach(filename) do |line|\n",
    "    padded_line = \"...#{line.chomp}...\"\n",
    "    prev_line, focus_line, next_line = focus_line, next_line, padded_line\n",
    "    next if focus_line.empty?\n",
    "    prev_line = '.' * focus_line.length if prev_line.empty?\n",
    "    gear_ratios << find_gears(prev_line, focus_line, next_line)\n",
    "  end\n",
    "\n",
    "  # final line\n",
    "  gear_ratios << find_gears(focus_line, next_line, '.' * focus_line.length)\n",
    "\n",
    "  gear_ratios\n",
    "end\n",
    "\n",
    "# solve_3b(d3_sample).flatten.sum\n",
    "solve_3b(d3_input).flatten.sum\n",
    "# find_parts('789..*9', '...*...', '....602')\n",
    "\n",
    "# find_parts('..217..', '...*...', '222.333')\n",
    "\n",
    "# '...8...'.match(/^.{0,2}\\D(\\d+)/)\n"
   ]
  },
  {
   "cell_type": "code",
   "execution_count": 12,
   "metadata": {},
   "outputs": [
    {
     "data": {
      "text/plain": [
       "\"123Z456\""
      ]
     },
     "execution_count": 12,
     "metadata": {},
     "output_type": "execute_result"
    }
   ],
   "source": [
    "a = '123.456'\n",
    "a[3] = 'Z'\n",
    "a"
   ]
  },
  {
   "cell_type": "markdown",
   "metadata": {},
   "source": [
    "## Day 4"
   ]
  },
  {
   "cell_type": "code",
   "execution_count": 13,
   "metadata": {},
   "outputs": [
    {
     "data": {
      "text/plain": [
       "14814534"
      ]
     },
     "execution_count": 13,
     "metadata": {},
     "output_type": "execute_result"
    }
   ],
   "source": [
    "d4_sample = 'Card 1: 41 48 83 86 17 | 83 86  6 31 17  9 48 53\n",
    "Card 2: 13 32 20 16 61 | 61 30 68 82 17 32 24 19\n",
    "Card 3:  1 21 53 59 44 | 69 82 63 72 16 21 14  1\n",
    "Card 4: 41 92 73 84 69 | 59 84 76 51 58  5 54 83\n",
    "Card 5: 87 83 26 28 32 | 88 30 70 12 93 22 82 36\n",
    "Card 6: 31 18 13 56 72 | 74 77 10 23 35 67 36 11'\n",
    "\n",
    "# scratchcards = d4_sample.split(\"\\n\").map { |line| line.split(':') }.map { |id, cards| [id, cards.split('|').map(&:strip).map(&:split)] }.map { |id, cards| [id, cards[0] & cards[1]] }\n",
    "# scratchcards = d4_sample.split(\"\\n\")\n",
    "#   .map { |line| line.split(':') }\n",
    "#   .map { |id, cards| [id, cards.split('|')\n",
    "#     .map(&:strip)\n",
    "#     .map(&:split)] }\n",
    "#   .map { |_id, cards| (cards[0] & cards[1])\n",
    "#     .length }\n",
    "#   .sum(0) { |matches| matches == 0 ? 0 : 2 ** (matches - 1) }\n",
    "\n",
    "def solve_d4a(data)\n",
    "  data.split(\"\\n\")\n",
    "  .map { |line| line.split(':') }\n",
    "  .map { |id, cards| [id, cards.split('|')\n",
    "    .map(&:strip)\n",
    "    .map(&:split)] }\n",
    "  .map { |_id, cards| (cards[0] & cards[1])\n",
    "    .length }\n",
    "  .sum(0) { |matches| matches == 0 ? 0 : 2 ** (matches - 1) }\n",
    "end\n",
    "\n",
    "# solve_d4a(d4_sample)\n",
    "\n",
    "d4_puzzle = File.read('2023-d04.txt')\n",
    "\n",
    "# solve_d4a(d4_puzzle)\n",
    "\n",
    "def solve_d4b(data)\n",
    "  winners = data.split(\"\\n\")\n",
    "  .map { |line| line.split(':') }\n",
    "  .map { |id, cards| [id, cards.split('|')\n",
    "    .map(&:strip)\n",
    "    .map(&:split)] }\n",
    "  .map { |_id, cards| (cards[0] & cards[1])\n",
    "    .length }\n",
    "\n",
    "  counts = [1] * winners.length\n",
    "\n",
    "  winners.each_with_index do |winner, index|\n",
    "    next if winner == 0\n",
    "    winner.times do |i|\n",
    "      counts[index + 1 + i] += counts[index]\n",
    "    end\n",
    "  end\n",
    "\n",
    "  counts\n",
    "end\n",
    "\n",
    "# solve_d4b(d4_sample).sum\n",
    "solve_d4b(d4_puzzle).sum\n"
   ]
  },
  {
   "cell_type": "code",
   "execution_count": 14,
   "metadata": {},
   "outputs": [
    {
     "name": "stdout",
     "output_type": "stream",
     "text": [
      "0\n",
      "1\n",
      "2\n"
     ]
    },
    {
     "data": {
      "text/plain": [
       "3"
      ]
     },
     "execution_count": 14,
     "metadata": {},
     "output_type": "execute_result"
    }
   ],
   "source": [
    "xyz = [3, 5, 2]\n",
    "\n",
    "xyz[0].times do |i|\n",
    "  puts i\n",
    "end"
   ]
  },
  {
   "cell_type": "markdown",
   "metadata": {},
   "source": [
    "## Day 5"
   ]
  },
  {
   "cell_type": "markdown",
   "metadata": {},
   "source": [
    "### Puzzle 1\n",
    "\n",
    "I modified my solution in-place to solve part 2 because I started by assuming I could handle the ranges. Part 2 is the first time this AoC that I hit performance reasons to modify my solution.\n",
    "\n",
    "My part 1 solution used the same definition structure of a range and addend, but I didn't need to bother with any of the operations on ranges."
   ]
  },
  {
   "cell_type": "markdown",
   "metadata": {},
   "source": [
    "Puzzle 2"
   ]
  },
  {
   "cell_type": "code",
   "execution_count": 15,
   "metadata": {},
   "outputs": [
    {
     "data": {
      "text/plain": [
       "24261545"
      ]
     },
     "execution_count": 15,
     "metadata": {},
     "output_type": "execute_result"
    }
   ],
   "source": [
    "d5_sample = 'seeds: 79 14 55 13\n",
    "\n",
    "seed-to-soil map:\n",
    "50 98 2\n",
    "52 50 48\n",
    "\n",
    "soil-to-fertilizer map:\n",
    "0 15 37\n",
    "37 52 2\n",
    "39 0 15\n",
    "\n",
    "fertilizer-to-water map:\n",
    "49 53 8\n",
    "0 11 42\n",
    "42 0 7\n",
    "57 7 4\n",
    "\n",
    "water-to-light map:\n",
    "88 18 7\n",
    "18 25 70\n",
    "\n",
    "light-to-temperature map:\n",
    "45 77 23\n",
    "81 45 19\n",
    "68 64 13\n",
    "\n",
    "temperature-to-humidity map:\n",
    "0 69 1\n",
    "1 0 69\n",
    "\n",
    "humidity-to-location map:\n",
    "60 56 37\n",
    "56 93 4'\n",
    "\n",
    "d5_input = File.read('2023-d05.txt')\n",
    "\n",
    "def parse_d5(data)\n",
    "  data.split(\"\\n\\n\")\n",
    "end\n",
    "\n",
    "def range_intersection(a, b)\n",
    "  # puts \"r_i: #{a}, #{b}\"\n",
    "  bottom, top = [a.begin, b.begin].max, [a.end, b.end].min\n",
    "  return nil unless bottom <= top\n",
    "  Range.new(bottom, top)\n",
    "end\n",
    "\n",
    "def range_slide(range, offset)\n",
    "  Range.new(range.begin + offset, range.end + offset)\n",
    "end\n",
    "\n",
    "def range_rejection(a, subtrahend)\n",
    "  # puts \"r_r: #{a}, #{subtrahend}\"\n",
    "  [Range.new(a.begin, [subtrahend.begin - 1, a.end].min), Range.new([subtrahend.end + 1, a.begin].max, a.end)].reject { |r| r.begin > r.end }\n",
    "end\n",
    "\n",
    "def translate(input_ranges, definitions)\n",
    "  # puts \"input_range: #{input_ranges}, definitions: #{definitions}\"\n",
    "\n",
    "  new_ranges = definitions.map do |definition|\n",
    "    input_ranges.map do |input_range|\n",
    "        new_range = range_intersection(input_range, definition[:coverage])\n",
    "        # puts \"new_range: #{new_range}\"\n",
    "        next nil unless new_range\n",
    "        range_slide(new_range, definition[:addend])\n",
    "    end\n",
    "  end.flatten.compact\n",
    "\n",
    "  remaining_ranges = input_ranges.map do |input_range|\n",
    "    definitions.reduce([input_range]) do |ranges, definition|\n",
    "      ranges.map do |range|\n",
    "        # puts \"range: #{range}, definition: #{definition}\"\n",
    "        # puts \"rejected_range: #{range_rejection(range, definition[:coverage])}\"\n",
    "        range_rejection(range, definition[:coverage])\n",
    "      end.flatten\n",
    "    end\n",
    "  end.flatten.compact\n",
    "\n",
    "  result = (new_ranges + remaining_ranges)\n",
    "\n",
    "  # puts \"new_ranges: #{new_ranges}\"\n",
    "  # puts \"remaining_ranges: #{remaining_ranges}\"\n",
    "  # puts \"result: #{result}\"\n",
    "\n",
    "  result\n",
    "end\n",
    "\n",
    "def solve_d5(data, num=Float::INFINITY)\n",
    "  # puts \"num: #{num}\"\n",
    "  normalized_data = parse_d5(data).map { |chunk| chunk.split(':') }.map { |_label, definition| definition.strip.split(\"\\n\").map { |line| line.split.map(&:to_i) } }\n",
    "  seeds = normalized_data.shift[0].each_slice(2).map { |x, y| Range.new(x, x + y - 1) }\n",
    "  maps = normalized_data.map { |definitions| definitions.map { |definition| {coverage: Range.new(definition[1], definition[1] + definition.last - 1), addend: definition.first - definition[1] } } }\n",
    "  seed_locations = seeds.first([num, seeds.length].min).map { |seed| maps.reduce([seed]) do |points, definitions|\n",
    "    # puts \"points: #{points}, definitions: #{definitions}\"\n",
    "    nx = translate(points, definitions)\n",
    "    # puts \"nx: #{nx}\"\n",
    "    nx\n",
    "  end }\n",
    "  # puts \"seed_locations: #{seed_locations.length}\"\n",
    "  seed_locations\n",
    "end\n",
    "\n",
    "# translate([{coverage: [Range.new(9, 10), Range.new(20, 20)], addend: 0}], [{coverage: Range.new(5, 15), addend: 10}, {coverage: Range.new(19, 21), addend: 50}])\n",
    "\n",
    "# solve_d5(d5_sample).flatten.map { |range| range.begin }.min\n",
    "solve_d5(d5_input).flatten.map { |range| range.begin }.min"
   ]
  },
  {
   "cell_type": "code",
   "execution_count": 16,
   "metadata": {},
   "outputs": [
    {
     "name": "stdout",
     "output_type": "stream",
     "text": [
      "       user     system      total        real\n",
      "   0.001499   0.000059   0.001558 (  0.001517)\n",
      "   0.005690   0.000152   0.005842 (  0.005951)\n",
      "   0.008767   0.000122   0.008889 (  0.008940)\n",
      "   0.015435   0.000296   0.015731 (  0.015814)\n",
      "   0.020104   0.000526   0.020630 (  0.020961)\n"
     ]
    },
    {
     "data": {
      "text/plain": [
       "[#<Benchmark::Tms:0x000000010cff38b0 @label=\"\", @real=0.0015170000260695815, @cstime=0.0, @cutime=0.0, @stime=5.9000000000003494e-05, @utime=0.001499000000000028, @total=0.0015580000000000316>, #<Benchmark::Tms:0x000000010db8b240 @label=\"\", @real=0.0059510000282898545, @cstime=0.0, @cutime=0.0, @stime=0.00015199999999998548, @utime=0.005689999999999973, @total=0.005841999999999958>, #<Benchmark::Tms:0x000000010db8cc30 @label=\"\", @real=0.00893999997060746, @cstime=0.0, @cutime=0.0, @stime=0.00012200000000001099, @utime=0.00876699999999997, @total=0.00888899999999998>, #<Benchmark::Tms:0x000000010cff27d0 @label=\"\", @real=0.015813999983947724, @cstime=0.0, @cutime=0.0, @stime=0.0002959999999999907, @utime=0.015434999999999977, @total=0.015730999999999967>, #<Benchmark::Tms:0x000000010db8eb20 @label=\"\", @real=0.020961000001989305, @cstime=0.0, @cutime=0.0, @stime=0.0005259999999999987, @utime=0.02010400000000001, @total=0.02063000000000001>]"
      ]
     },
     "execution_count": 16,
     "metadata": {},
     "output_type": "execute_result"
    }
   ],
   "source": [
    "require 'benchmark'\n",
    "\n",
    "Benchmark.bm do |x|\n",
    "  x.report { solve_d5(d5_input, 1) }\n",
    "  x.report { solve_d5(d5_input, 2) }\n",
    "  x.report { solve_d5(d5_input, 4) }\n",
    "  x.report { solve_d5(d5_input, 8) }\n",
    "  x.report { solve_d5(d5_input, 16) }\n",
    "  # x.report { solve_d5(d5_input, 32) }\n",
    "  # x.report { solve_d5(d5_input, 64) }\n",
    "  # x.report { solve_d5(d5_input, 128) }\n",
    "  # x.report { solve_d5(d5_input, 256) }\n",
    "end"
   ]
  },
  {
   "cell_type": "markdown",
   "metadata": {},
   "source": [
    "## Day 6\n",
    "\n",
    "### Puzzle 1"
   ]
  },
  {
   "cell_type": "code",
   "execution_count": 38,
   "metadata": {},
   "outputs": [
    {
     "name": "stdout",
     "output_type": "stream",
     "text": [
      "distance: 222, time: 51\n",
      "distance: 2031, time: 92\n",
      "distance: 1126, time: 68\n",
      "distance: 1225, time: 90\n"
     ]
    },
    {
     "data": {
      "text/plain": [
       "500346"
      ]
     },
     "execution_count": 38,
     "metadata": {},
     "output_type": "execute_result"
    }
   ],
   "source": [
    "d6_sample = 'Time:      7  15   30\n",
    "Distance:  9  40  200'\n",
    "\n",
    "d6_input = 'Time:        51     92     68     90\n",
    "Distance:   222   2031   1126   1225'\n",
    "\n",
    "sample_race_records = d6_sample.split(\"\\n\").map { |line| line.split(':') }.map { |label, data| [label, data.split.map(&:to_i)] }.to_h\n",
    "input_race_records = d6_input.split(\"\\n\").map { |line| line.split(':') }.map { |label, data| [label, data.split.map(&:to_i)] }.to_h\n",
    "\n",
    "def distance(charge, time)\n",
    "   run = (time - charge) * charge\n",
    "end\n",
    "\n",
    "def intercepts(distance, time)\n",
    "  # distance = (time - charge) * charge\n",
    "  puts \"distance: #{distance}, time: #{time}\"\n",
    "  a = 0.5 * (time - Math.sqrt(time * time - 4 * distance))\n",
    "  b = 0.5 * (time + Math.sqrt(time * time - 4 * distance))\n",
    "  [a, b]\n",
    "end\n",
    "\n",
    "def solve_d6(times, distances)\n",
    "  # intercepts = times.zip(distances).map { |time, distance| intercepts(distance, time) }.map { |a, b| Range.new(a.ceil, b.floor).size }\n",
    "  intercepts = times.zip(distances).map { |time, distance| intercepts(distance, time) }.map { |a, b| Range.new((a + 1).floor, (b - 1).ceil) }\n",
    "  intercepts.reduce(1) { |result, range| result * range.size }\n",
    "end\n",
    "\n",
    "# solve_d6(sample_race_records['Time'], race_records['Distance'])\n",
    "solve_d6(input_race_records['Time'], input_race_records['Distance'])\n",
    "\n",
    "# distance(10, 30)"
   ]
  },
  {
   "cell_type": "markdown",
   "metadata": {},
   "source": [
    "### Puzzle 2"
   ]
  },
  {
   "cell_type": "code",
   "execution_count": 42,
   "metadata": {},
   "outputs": [
    {
     "name": "stdout",
     "output_type": "stream",
     "text": [
      "distance: 222203111261225, time: 51926890\n"
     ]
    },
    {
     "data": {
      "text/plain": [
       "42515755"
      ]
     },
     "execution_count": 42,
     "metadata": {},
     "output_type": "execute_result"
    }
   ],
   "source": [
    "real_sample_race_records = d6_sample.split(\"\\n\").map { |line| line.split(':') }.map { |label, data| [label, [data.delete(' ').to_i]] }.to_h\n",
    "real_input_race_records = d6_input.split(\"\\n\").map { |line| line.split(':') }.map { |label, data| [label, [data.delete(' ').to_i]] }.to_h\n",
    "solve_d6(real_input_race_records['Time'], real_input_race_records['Distance'])\n"
   ]
  },
  {
   "cell_type": "markdown",
   "metadata": {},
   "source": [
    "## Day 7\n",
    "\n",
    "### Puzzle 1"
   ]
  },
  {
   "cell_type": "code",
   "execution_count": 86,
   "metadata": {},
   "outputs": [
    {
     "name": "stderr",
     "output_type": "stream",
     "text": [
      "(irb):8: warning: already initialized constant Object::RANKS\n",
      "(irb):8: warning: previous definition of RANKS was here\n"
     ]
    },
    {
     "data": {
      "text/plain": [
       "253954294"
      ]
     },
     "execution_count": 86,
     "metadata": {},
     "output_type": "execute_result"
    }
   ],
   "source": [
    "d7_sample = '32T3K 765\n",
    "T55J5 684\n",
    "KK677 28\n",
    "KTJJT 220\n",
    "QQQJA 483'\n",
    "\n",
    "d7_input = File.read('2023-d07.txt')\n",
    "\n",
    "RANKS = 'AKQJT98765432'\n",
    "\n",
    "def d7_parse(data)\n",
    "  data.split(\"\\n\").map { |line| line.split(' ') }\n",
    "end\n",
    "\n",
    "def hand_type(hand)\n",
    "  hand.chars.group_by { |c| c }.values.map(&:length).sort.reverse.append(0).take(2).join.to_i\n",
    "end\n",
    "\n",
    "def d7_compare(a, b)\n",
    "  type_a, type_b = hand_type(a), hand_type(b)\n",
    "\n",
    "  return type_a <=> type_b unless type_a == type_b\n",
    "\n",
    "  a.chars.zip(b.chars).each do |a, b|\n",
    "    return RANKS.index(b) <=> RANKS.index(a) unless a == b\n",
    "  end\n",
    "\n",
    "  0\n",
    "end\n",
    "\n",
    "def solve_d7(data)\n",
    "  d7_parse(data).sort { |a, b| d7_compare(a.first, b.first) }.each_with_index.reduce(0) do |result, (hand, index)|\n",
    "    result + hand[1].to_i * (index + 1)\n",
    "  end\n",
    "end\n",
    "\n",
    "# solve_d7(d7_sample)\n",
    "solve_d7(d7_input)"
   ]
  },
  {
   "cell_type": "markdown",
   "metadata": {},
   "source": [
    "### Puzzle 2"
   ]
  },
  {
   "cell_type": "code",
   "execution_count": 111,
   "metadata": {},
   "outputs": [
    {
     "name": "stderr",
     "output_type": "stream",
     "text": [
      "(irb): warning: already initialized constant Object::P2_RANKS\n"
     ]
    },
    {
     "data": {
      "text/plain": [
       "254837398"
      ]
     },
     "execution_count": 111,
     "metadata": {},
     "output_type": "execute_result"
    }
   ],
   "source": [
    "P2_RANKS = 'AKQT98765432J'\n",
    "\n",
    "def d7b_hand_type(hand)\n",
    "  siblings = hand.chars.group_by { |c| c }\n",
    "  jokers = siblings.delete('J')\n",
    "  siblings = siblings.values.map(&:length).sort.reverse.append(0)\n",
    "  siblings[0] += jokers.length if jokers\n",
    "  siblings.append(0).take(2).join.to_i\n",
    "end\n",
    "\n",
    "def d7b_compare(a, b)\n",
    "  type_a, type_b = d7b_hand_type(a), d7b_hand_type(b)\n",
    "\n",
    "  return type_a <=> type_b unless type_a == type_b\n",
    "\n",
    "  a.chars.zip(b.chars).each do |a, b|\n",
    "    return P2_RANKS.index(b) <=> P2_RANKS.index(a) unless a == b\n",
    "  end\n",
    "\n",
    "  0\n",
    "end\n",
    "\n",
    "def solve_d7b(data)\n",
    "  d7_parse(data).sort { |a, b| d7b_compare(a.first, b.first) }.each_with_index.reduce(0) do |result, (hand, index)|\n",
    "    result + hand[1].to_i * (index + 1)\n",
    "  end\n",
    "end\n",
    "\n",
    "# solve_d7b(d7_sample)\n",
    "solve_d7b(d7_input)"
   ]
  },
  {
   "cell_type": "code",
   "execution_count": null,
   "metadata": {},
   "outputs": [],
   "source": []
  },
  {
   "cell_type": "code",
   "execution_count": null,
   "metadata": {},
   "outputs": [],
   "source": []
  }
 ],
 "metadata": {
  "kernelspec": {
   "display_name": "Ruby 3.2.2",
   "language": "ruby",
   "name": "ruby"
  },
  "language_info": {
   "file_extension": ".rb",
   "mimetype": "application/x-ruby",
   "name": "ruby",
   "version": "3.2.2"
  }
 },
 "nbformat": 4,
 "nbformat_minor": 2
}
