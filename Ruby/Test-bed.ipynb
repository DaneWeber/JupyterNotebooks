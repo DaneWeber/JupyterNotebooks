{
 "cells": [
  {
   "cell_type": "code",
   "execution_count": 6,
   "metadata": {},
   "outputs": [
    {
     "data": {
      "text/plain": [
       "[{:color=>:red, :shape=>:octagon, :text=>\"Stop\", :id=>5, :code=>3}, {:color=>:red, :shape=>:circle, :text=>\"Do not enter\", :id=>9, :code=>3}, {:color=>:red, :shape=>:circle, :text=>\"(Slash) P\", :id=>17, :code=>4}, {:color=>:yellow, :shape=>:circle, :text=>\"R (X) R\", :id=>20, :code=>4}, {:color=>:yellow, :shape=>:diamond, :text=>\"Slow\", :id=>22, :code=>3}, {:color=>:white, :shape=>:rectangle, :text=>\"Speed Limit 10\", :id=>119, :code=>5}]"
      ]
     },
     "execution_count": 6,
     "metadata": {},
     "output_type": "execute_result"
    }
   ],
   "source": [
    "data = [\n",
    "  {color: :red, shape: :octagon, text: 'Stop', id: 5, code: 3},\n",
    "  {color: :red, shape: :circle, text: 'Do not enter', id: 9, code: 3},\n",
    "  {color: :red, shape: :circle, text: '(Slash) P', id: 17, code: 4},\n",
    "  {color: :yellow, shape: :circle, text: 'R (X) R', id: 20, code: 4},\n",
    "  {color: :yellow, shape: :diamond, text: 'Slow', id: 22, code: 3},\n",
    "  {color: :white, shape: :rectangle, text: 'Speed Limit 10', id: 119, code: 5}\n",
    "  ]"
   ]
  },
  {
   "cell_type": "code",
   "execution_count": 7,
   "metadata": {},
   "outputs": [
    {
     "data": {
      "text/plain": [
       "{:red=>{:octagon=>[{:text=>\"Stop\", :id=>5, :code=>3}], :circle=>[{:text=>\"Do not enter\", :id=>9, :code=>3}, {:text=>\"(Slash) P\", :id=>17, :code=>4}]}, :yellow=>{:circle=>[{:text=>\"R (X) R\", :id=>20, :code=>4}], :diamond=>[{:text=>\"Slow\", :id=>22, :code=>3}]}, :white=>{:rectangle=>[{:text=>\"Speed Limit 10\", :id=>119, :code=>5}]}}"
      ]
     },
     "execution_count": 7,
     "metadata": {},
     "output_type": "execute_result"
    }
   ],
   "source": [
    "structured = data.group_by { |row| row[:color] }\n",
    "    .transform_values do |color_rows|\n",
    "  color_rows.group_by { |row| row[:shape] }\n",
    "            .transform_values do |shape_rows|\n",
    "    shape_rows.map { |sign| sign.select { |column, _| %i[text id code].include?(column) } }\n",
    "  end\n",
    "end"
   ]
  },
  {
   "cell_type": "code",
   "execution_count": 8,
   "metadata": {},
   "outputs": [
    {
     "ename": "ArgumentError",
     "evalue": "wrong number of arguments (given 1, expected 2+)",
     "output_type": "error",
     "traceback": [
      "\u001b[31mArgumentError\u001b[0m: wrong number of arguments (given 1, expected 2+)",
      "\u001b[37m<main>:2:in `extract'\u001b[0m",
      "\u001b[37m<main>:3:in `block in extract'\u001b[0m",
      "\u001b[37m<main>:2:in `transform_values'\u001b[0m",
      "\u001b[37m<main>:2:in `extract'\u001b[0m",
      "\u001b[37m<main>:7:in `<main>'\u001b[0m",
      "\u001b[37m/usr/local/lib/ruby/gems/2.4.0/gems/iruby-0.3/lib/iruby/backend.rb:44:in `eval'\u001b[0m",
      "\u001b[37m/usr/local/lib/ruby/gems/2.4.0/gems/iruby-0.3/lib/iruby/backend.rb:44:in `eval'\u001b[0m",
      "\u001b[37m/usr/local/lib/ruby/gems/2.4.0/gems/iruby-0.3/lib/iruby/backend.rb:12:in `eval'\u001b[0m",
      "\u001b[37m/usr/local/lib/ruby/gems/2.4.0/gems/iruby-0.3/lib/iruby/kernel.rb:87:in `execute_request'\u001b[0m",
      "\u001b[37m/usr/local/lib/ruby/gems/2.4.0/gems/iruby-0.3/lib/iruby/kernel.rb:47:in `dispatch'\u001b[0m",
      "\u001b[37m/usr/local/lib/ruby/gems/2.4.0/gems/iruby-0.3/lib/iruby/kernel.rb:37:in `run'\u001b[0m",
      "\u001b[37m/usr/local/lib/ruby/gems/2.4.0/gems/iruby-0.3/lib/iruby/command.rb:70:in `run_kernel'\u001b[0m",
      "\u001b[37m/usr/local/lib/ruby/gems/2.4.0/gems/iruby-0.3/lib/iruby/command.rb:34:in `run'\u001b[0m",
      "\u001b[37m/usr/local/lib/ruby/gems/2.4.0/gems/iruby-0.3/bin/iruby:5:in `<top (required)>'\u001b[0m",
      "\u001b[37m/usr/local/bin/iruby:22:in `load'\u001b[0m",
      "\u001b[37m/usr/local/bin/iruby:22:in `<main>'\u001b[0m"
     ]
    }
   ],
   "source": [
    "def extract(array_of_hashes, key = nil, *keys)\n",
    "  return unless key\n",
    "  array_of_hashes.group_by { |x| x[key] }\n",
    "                 .transform_values do |y|\n",
    "    extract(y.map { |z| z.reject { |k,_| k == key }}, *keys)\n",
    "  end\n",
    "end\n",
    "\n",
    "extract(data, :color)"
   ]
  }
 ],
 "metadata": {
  "kernelspec": {
   "display_name": "Ruby 2.4.1",
   "language": "ruby",
   "name": "ruby"
  },
  "language_info": {
   "file_extension": ".rb",
   "mimetype": "application/x-ruby",
   "name": "ruby",
   "version": "2.4.1"
  }
 },
 "nbformat": 4,
 "nbformat_minor": 2
}
