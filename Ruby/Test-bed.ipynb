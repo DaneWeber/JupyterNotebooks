{
 "cells": [
  {
   "cell_type": "code",
   "execution_count": 3,
   "metadata": {},
   "outputs": [
    {
     "data": {
      "text/plain": [
       "[{:color=>:red, :shape=>:octagon, :text=>\"Stop\", :id=>5, :code=>3}, {:color=>:red, :shape=>:circle, :text=>\"Do not enter\", :id=>9, :code=>3}, {:color=>:red, :shape=>:circle, :text=>\"(Slash) P\", :id=>17, :code=>4}, {:color=>:yellow, :shape=>:circle, :text=>\"R (X) R\", :id=>20, :code=>4}, {:color=>:yellow, :shape=>:diamond, :text=>\"Slow\", :id=>22, :code=>3}, {:color=>:white, :shape=>:rectangle, :text=>\"Speed Limit 10\", :id=>119, :code=>5}]"
      ]
     },
     "execution_count": 3,
     "metadata": {},
     "output_type": "execute_result"
    }
   ],
   "source": [
    "data = [\n",
    "  {color: :red, shape: :octagon, text: 'Stop', id: 5, code: 3},\n",
    "  {color: :red, shape: :circle, text: 'Do not enter', id: 9, code: 3},\n",
    "  {color: :red, shape: :circle, text: '(Slash) P', id: 17, code: 4},\n",
    "  {color: :yellow, shape: :circle, text: 'R (X) R', id: 20, code: 4},\n",
    "  {color: :yellow, shape: :diamond, text: 'Slow', id: 22, code: 3},\n",
    "  {color: :white, shape: :rectangle, text: 'Speed Limit 10', id: 119, code: 5}\n",
    "  ]"
   ]
  },
  {
   "cell_type": "code",
   "execution_count": 6,
   "metadata": {},
   "outputs": [
    {
     "data": {
      "text/plain": [
       "{:red=>{:octagon=>[{:text=>\"Stop\", :id=>5, :code=>3}], :circle=>[{:text=>\"Do not enter\", :id=>9, :code=>3}, {:text=>\"(Slash) P\", :id=>17, :code=>4}]}, :yellow=>{:circle=>[{:text=>\"R (X) R\", :id=>20, :code=>4}], :diamond=>[{:text=>\"Slow\", :id=>22, :code=>3}]}, :white=>{:rectangle=>[{:text=>\"Speed Limit 10\", :id=>119, :code=>5}]}}"
      ]
     },
     "execution_count": 6,
     "metadata": {},
     "output_type": "execute_result"
    }
   ],
   "source": [
    "structured = data.group_by { |row| row[:color] }\n",
    "    .transform_values do |color_rows|\n",
    "  color_rows.group_by { |row| row[:shape] }\n",
    "            .transform_values do |shape_rows|\n",
    "    shape_rows.map { |sign| sign.select { |column, _| %i[text id code].include?(column) } }\n",
    "  end\n",
    "end"
   ]
  },
  {
   "cell_type": "code",
   "execution_count": null,
   "metadata": {
    "collapsed": true
   },
   "outputs": [],
   "source": []
  }
 ],
 "metadata": {
  "kernelspec": {
   "display_name": "Ruby 2.4.1",
   "language": "ruby",
   "name": "ruby"
  },
  "language_info": {
   "file_extension": ".rb",
   "mimetype": "application/x-ruby",
   "name": "ruby",
   "version": "2.4.1"
  }
 },
 "nbformat": 4,
 "nbformat_minor": 2
}
